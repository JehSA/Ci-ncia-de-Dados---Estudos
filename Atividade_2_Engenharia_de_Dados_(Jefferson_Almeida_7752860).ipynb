{
  "nbformat": 4,
  "nbformat_minor": 0,
  "metadata": {
    "colab": {
      "provenance": []
    },
    "kernelspec": {
      "name": "python3",
      "display_name": "Python 3"
    },
    "language_info": {
      "name": "python"
    }
  },
  "cells": [
    {
      "cell_type": "code",
      "execution_count": null,
      "metadata": {
        "colab": {
          "base_uri": "https://localhost:8080/"
        },
        "id": "CBEVk_9shxdg",
        "outputId": "ec20f6a2-0614-4c20-e6bd-16e99d141dd2"
      },
      "outputs": [
        {
          "output_type": "stream",
          "name": "stdout",
          "text": [
            "Requirement already satisfied: gurobipy in /usr/local/lib/python3.7/dist-packages (9.5.1)\n",
            "Gurobi Optimizer version 9.5.1 build v9.5.1rc2 (linux64)\n",
            "Thread count: 1 physical cores, 2 logical processors, using up to 2 threads\n",
            "Optimize a model with 2 rows, 2 columns and 4 nonzeros\n",
            "Model fingerprint: 0xdc67f5af\n",
            "Coefficient statistics:\n",
            "  Matrix range     [1e+00, 1e+01]\n",
            "  Objective range  [2e+00, 5e+00]\n",
            "  Bounds range     [0e+00, 0e+00]\n",
            "  RHS range        [6e+00, 6e+01]\n",
            "Presolve time: 0.02s\n",
            "Presolved: 2 rows, 2 columns, 4 nonzeros\n",
            "\n",
            "Iteration    Objective       Primal Inf.    Dual Inf.      Time\n",
            "       0    4.5000000e+30   4.125000e+30   4.500000e+00      0s\n",
            "       2    1.5000000e+01   0.000000e+00   0.000000e+00      0s\n",
            "\n",
            "Solved in 2 iterations and 0.03 seconds (0.00 work units)\n",
            "Optimal objective  1.500000000e+01\n",
            "Serão produzidos  3.0  sapatos.\n",
            "Serão produzidos  0.0  cintos.\n"
          ]
        }
      ],
      "source": [
        "!pip install gurobipy\n",
        "import gurobipy as gp\n",
        "\n",
        "modelo = gp.Model(\"sapateiro\")\n",
        "\n",
        "x1 = modelo.addVar()\n",
        "x2 = modelo.addVar()\n",
        "\n",
        "modelo.setObjective(5 * x1 + 2 * x2, sense = gp.GRB.MAXIMIZE)\n",
        "restricao_1 = modelo.addConstr(2 * x1 + x2 <= 6)\n",
        "restricao_2 = modelo.addConstr(10 * x1 + 12 * x2 <=60)\n",
        "modelo.optimize()\n",
        "\n",
        "print(\"Serão produzidos \", x1.X, \" sapatos.\")\n",
        "print(\"Serão produzidos \", x2.X, \" cintos.\")"
      ]
    },
    {
      "cell_type": "code",
      "source": [
        "import gurobipy as gp\n",
        "from scipy.optimize import linprog\n",
        "import matplotlib.pyplot as plt\n",
        "from matplotlib.patches import Polygon\n",
        "%matplotlib inline\n",
        "\n",
        "modelo = gp.Model(\"lucro\")\n",
        "\n",
        "x1 = modelo.addVar()\n",
        "x2 = modelo.addVar()\n",
        "\n",
        "modelo.setObjective(100 * x1 + 150 * x2, sense = gp.GRB.MAXIMIZE)\n",
        "restricao_1 = modelo.addConstr(2 * x1 + 3 * x2 <= 120)\n",
        "restricao_2 = modelo.addConstr(x1 <= 40)\n",
        "restricao_3 = modelo.addConstr(x2 <= 30)\n",
        "modelo.optimize()\n",
        "\n",
        "print(\"O lucro de P1 é \", x1.X)\n",
        "print(\"O lucro de P2 é \", x2.X)\n",
        "\n",
        "\n",
        "\n",
        "fig, ax = plt.subplots(figsize=(8, 6))\n",
        "ax.grid()\n",
        "\n",
        "# Draw constraint lines\n",
        "ax.hlines(0, -1, 17.5)\n",
        "ax.vlines(0, -1, 12)\n",
        "ax.plot(np.linspace(-1, 17.5, 100), 6-0.4*np.linspace(-1, 17.5, 100), color=\"c\")\n",
        "ax.plot(np.linspace(-1, 5.5, 100), 10-2*np.linspace(-1, 5.5, 100), color=\"c\")\n",
        "ax.text(1.5, 8, \"$2x_1 + 5x_2 \\leq 30$\", size=12)\n",
        "ax.text(10, 2.5, \"$4x_1 + 2x_2 \\leq 20$\", size=12)\n",
        "ax.text(-2, 2, \"$x_2 \\geq 0$\", size=12)\n",
        "ax.text(2.5, -0.7, \"$x_1 \\geq 0$\", size=12)\n",
        "\n",
        "# Draw the feasible region\n",
        "feasible_set = Polygon(np.array([[0, 0], \n",
        "                                 [0, 6], \n",
        "                                 [2.5, 5], \n",
        "                                 [5, 0]]), \n",
        "                       color=\"cyan\")\n",
        "ax.add_patch(feasible_set)\n",
        "\n",
        "# Draw the objective function\n",
        "ax.plot(np.linspace(-1, 5.5, 100), 3.875-0.75*np.linspace(-1, 5.5, 100), color=\"orange\")\n",
        "ax.plot(np.linspace(-1, 5.5, 100), 5.375-0.75*np.linspace(-1, 5.5, 100), color=\"orange\")\n",
        "ax.plot(np.linspace(-1, 5.5, 100), 6.875-0.75*np.linspace(-1, 5.5, 100), color=\"orange\")\n",
        "ax.arrow(-1.6, 5, 0, 2, width = 0.05, head_width=0.2, head_length=0.5, color=\"orange\")\n",
        "ax.text(5.7, 1, \"$z = 3x_1 + 4x_2$\", size=12)\n",
        "\n",
        "# Draw the optimal solution\n",
        "ax.plot(x1.X, x2.X, \"*\", color=\"black\")\n",
        "ax.text(2.7, 5.2, \"Optimal Solution\", size=12)\n",
        "\n",
        "plt.show()"
      ],
      "metadata": {
        "colab": {
          "base_uri": "https://localhost:8080/",
          "height": 704
        },
        "id": "2FhdHuWOneTv",
        "outputId": "d558b4c0-f317-4259-a942-bf1a78b312f5"
      },
      "execution_count": null,
      "outputs": [
        {
          "output_type": "stream",
          "name": "stdout",
          "text": [
            "Gurobi Optimizer version 9.5.1 build v9.5.1rc2 (linux64)\n",
            "Thread count: 1 physical cores, 2 logical processors, using up to 2 threads\n",
            "Optimize a model with 3 rows, 2 columns and 4 nonzeros\n",
            "Model fingerprint: 0x3e74dec7\n",
            "Coefficient statistics:\n",
            "  Matrix range     [1e+00, 3e+00]\n",
            "  Objective range  [1e+02, 2e+02]\n",
            "  Bounds range     [0e+00, 0e+00]\n",
            "  RHS range        [3e+01, 1e+02]\n",
            "Presolve removed 3 rows and 2 columns\n",
            "Presolve time: 0.01s\n",
            "Presolve: All rows and columns removed\n",
            "Iteration    Objective       Primal Inf.    Dual Inf.      Time\n",
            "       0    6.0000000e+03   0.000000e+00   0.000000e+00      0s\n",
            "\n",
            "Solved in 0 iterations and 0.01 seconds (0.00 work units)\n",
            "Optimal objective  6.000000000e+03\n",
            "O lucro de P1 é  15.0\n",
            "O lucro de P2 é  30.0\n"
          ]
        },
        {
          "output_type": "display_data",
          "data": {
            "text/plain": [
              "<Figure size 576x432 with 1 Axes>"
            ],
            "image/png": "[encoded data removed]"
          },
          "metadata": {
            "needs_background": "light"
          }
        }
      ]
    },
    {
      "cell_type": "code",
      "source": [
        "import gurobipy as gp\n",
        "\n",
        "modelo = gp.Model(\"frequencia_programas\")\n",
        "\n",
        "x1 = modelo.addVar()\n",
        "x2 = modelo.addVar()\n",
        "\n",
        "modelo.setObjective(30000 * x1 + 10000 * x2, sense = gp.GRB.MAXIMIZE)\n",
        "restricao_1 = modelo.addConstr(20 * x1 + 10 * x2 <= 80)\n",
        "restricao_2 = modelo.addConstr(x1 + x2 <= 80)\n",
        "modelo.optimize()\n",
        "\n",
        "print(\"Propagandas programa A \", x1.X)\n",
        "print(\"Propagandas programa B \", x2.X)"
      ],
      "metadata": {
        "id": "2Lzz8UERnYZm",
        "colab": {
          "base_uri": "https://localhost:8080/"
        },
        "outputId": "ff602223-80c9-4b77-f125-da62afdc5c16"
      },
      "execution_count": null,
      "outputs": [
        {
          "output_type": "stream",
          "name": "stdout",
          "text": [
            "Gurobi Optimizer version 9.5.1 build v9.5.1rc2 (linux64)\n",
            "Thread count: 1 physical cores, 2 logical processors, using up to 2 threads\n",
            "Optimize a model with 2 rows, 2 columns and 4 nonzeros\n",
            "Model fingerprint: 0x5e798fda\n",
            "Coefficient statistics:\n",
            "  Matrix range     [1e+00, 2e+01]\n",
            "  Objective range  [1e+04, 3e+04]\n",
            "  Bounds range     [0e+00, 0e+00]\n",
            "  RHS range        [8e+01, 8e+01]\n",
            "Presolve removed 2 rows and 2 columns\n",
            "Presolve time: 0.02s\n",
            "Presolve: All rows and columns removed\n",
            "Iteration    Objective       Primal Inf.    Dual Inf.      Time\n",
            "       0    1.2000000e+05   0.000000e+00   0.000000e+00      0s\n",
            "\n",
            "Solved in 0 iterations and 0.02 seconds (0.00 work units)\n",
            "Optimal objective  1.200000000e+05\n",
            "Propagandas programa A  4.0\n",
            "Propagandas programa B  0.0\n"
          ]
        }
      ]
    },
    {
      "cell_type": "code",
      "source": [
        "import gurobipy as gp\n",
        "\n",
        "modelo = gp.Model(\"lucro_2\")\n",
        "\n",
        "x1 = modelo.addVar()\n",
        "x2 = modelo.addVar()\n",
        "\n",
        "modelo.setObjective(120 * x1 + 150 * x2, sense = gp.GRB.MAXIMIZE)\n",
        "restricao_1 = modelo.addConstr(2 * x1 + 4 * x2 <= 100)\n",
        "restricao_2 = modelo.addConstr(3 * x1 + 2 * x2 <= 90)\n",
        "restricao_3 = modelo.addConstr(5 * x1 + 3 * x2 <= 120)\n",
        "modelo.optimize()\n",
        "\n",
        "print(\"Lucro de P1 \", x1.X)\n",
        "print(\"Lucro de P2 \", x2.X)"
      ],
      "metadata": {
        "colab": {
          "base_uri": "https://localhost:8080/"
        },
        "id": "xKCTfCk8xCi-",
        "outputId": "616d035f-7efc-4347-c4ee-dc9696f1a377"
      },
      "execution_count": null,
      "outputs": [
        {
          "output_type": "stream",
          "name": "stdout",
          "text": [
            "Gurobi Optimizer version 9.5.1 build v9.5.1rc2 (linux64)\n",
            "Thread count: 1 physical cores, 2 logical processors, using up to 2 threads\n",
            "Optimize a model with 3 rows, 2 columns and 6 nonzeros\n",
            "Model fingerprint: 0x0be4b58a\n",
            "Coefficient statistics:\n",
            "  Matrix range     [2e+00, 5e+00]\n",
            "  Objective range  [1e+02, 2e+02]\n",
            "  Bounds range     [0e+00, 0e+00]\n",
            "  RHS range        [9e+01, 1e+02]\n",
            "Presolve time: 0.01s\n",
            "Presolved: 3 rows, 2 columns, 6 nonzeros\n",
            "\n",
            "Iteration    Objective       Primal Inf.    Dual Inf.      Time\n",
            "       0    2.7000000e+32   3.750000e+30   2.700000e+02      0s\n",
            "       2    4.3285714e+03   0.000000e+00   0.000000e+00      0s\n",
            "\n",
            "Solved in 2 iterations and 0.02 seconds (0.00 work units)\n",
            "Optimal objective  4.328571429e+03\n",
            "Lucro de P1  12.857142857142858\n",
            "Lucro de P2  18.57142857142857\n"
          ]
        }
      ]
    },
    {
      "cell_type": "code",
      "source": [
        "import gurobipy as gp\n",
        "\n",
        "modelo = gp.Model(\"alqueires\")\n",
        "\n",
        "x1 = modelo.addVar()\n",
        "x2 = modelo.addVar()\n",
        "x3 = modelo.addVar()\n",
        "\n",
        "modelo.setObjective(300 * x1 + 400 * x2 + 500 * x3, sense = gp.GRB.MAXIMIZE)\n",
        "restricao_1 = modelo.addConstr(x1 + x2 + x3 <= 100)\n",
        "restricao_2 = modelo.addConstr(100 * x2 + 200 * x3 <= 14000)\n",
        "restricao_3 = modelo.addConstr(100000 * x2 + 200000 * x3 <= 12750000)\n",
        "modelo.optimize()\n",
        "\n",
        "print(\"Alqueires para arrendamento \", x1.X)\n",
        "print(\"Alqueires para pecuária \", x2.X)\n",
        "print(\"Alqueires para soja \", x3.X)"
      ],
      "metadata": {
        "colab": {
          "base_uri": "https://localhost:8080/"
        },
        "id": "6wDdhr562hiU",
        "outputId": "b13b8c0a-9f33-4965-cc8e-d0c0fa3aa7cc"
      },
      "execution_count": null,
      "outputs": [
        {
          "output_type": "stream",
          "name": "stdout",
          "text": [
            "Gurobi Optimizer version 9.5.1 build v9.5.1rc2 (linux64)\n",
            "Thread count: 1 physical cores, 2 logical processors, using up to 2 threads\n",
            "Optimize a model with 3 rows, 3 columns and 7 nonzeros\n",
            "Model fingerprint: 0x8e108b7b\n",
            "Coefficient statistics:\n",
            "  Matrix range     [1e+00, 2e+05]\n",
            "  Objective range  [3e+02, 5e+02]\n",
            "  Bounds range     [0e+00, 0e+00]\n",
            "  RHS range        [1e+02, 1e+07]\n",
            "Presolve removed 1 rows and 0 columns\n",
            "Presolve time: 0.01s\n",
            "Presolved: 2 rows, 3 columns, 5 nonzeros\n",
            "\n",
            "Iteration    Objective       Primal Inf.    Dual Inf.      Time\n",
            "       0    8.1030300e+04   7.030094e+03   0.000000e+00      0s\n",
            "       2    4.2750000e+04   0.000000e+00   0.000000e+00      0s\n",
            "\n",
            "Solved in 2 iterations and 0.02 seconds (0.00 work units)\n",
            "Optimal objective  4.275000000e+04\n",
            "Alqueires para arrendamento  36.24999999999999\n",
            "Alqueires para pecuária  0.0\n",
            "Alqueires para soja  63.75\n"
          ]
        }
      ]
    },
    {
      "cell_type": "code",
      "source": [
        "import matplotlib.pyplot as plt\n",
        "import gurobipy as gp\n",
        "\n",
        "modelo = gp.Model(\"marcenaria\")\n",
        "\n",
        "x1 = modelo.addVar()\n",
        "x2 = modelo.addVar()\n",
        "\n",
        "modelo.setObjective(4 * x1 + 1 * x2, sense = gp.GRB.MAXIMIZE)\n",
        "restricao_1 = modelo.addConstr(2 * x1 + 3 * x2 <= 12)\n",
        "restricao_2 = modelo.addConstr(2 * x1 + 1 * x2 <= 8)\n",
        "modelo.optimize()\n",
        "\n",
        "print(\"Produção de mesas \", x1.X)\n",
        "print(\"Produção de cadeiras\", x2.X)\n",
        "\n",
        "\n",
        "\n",
        "\n",
        "plt.figure(figsize = (x1.X, x2.X))\n",
        "plt.rcParams[\"font.size\"] = 15\n",
        "plt.axis([0, 50, 0, 50])"
      ],
      "metadata": {
        "colab": {
          "base_uri": "https://localhost:8080/",
          "height": 653
        },
        "id": "-ByBTlFT6yq1",
        "outputId": "b85ec62b-e1d0-4f72-d2d7-5e5cf397bff3"
      },
      "execution_count": null,
      "outputs": [
        {
          "output_type": "stream",
          "name": "stdout",
          "text": [
            "Gurobi Optimizer version 9.5.1 build v9.5.1rc2 (linux64)\n",
            "Thread count: 1 physical cores, 2 logical processors, using up to 2 threads\n",
            "Optimize a model with 2 rows, 2 columns and 4 nonzeros\n",
            "Model fingerprint: 0x186140b3\n",
            "Coefficient statistics:\n",
            "  Matrix range     [1e+00, 3e+00]\n",
            "  Objective range  [1e+00, 4e+00]\n",
            "  Bounds range     [0e+00, 0e+00]\n",
            "  RHS range        [8e+00, 1e+01]\n",
            "Presolve time: 0.01s\n",
            "Presolved: 2 rows, 2 columns, 4 nonzeros\n",
            "\n",
            "Iteration    Objective       Primal Inf.    Dual Inf.      Time\n",
            "       0    5.0000000e+30   2.750000e+30   5.000000e+00      0s\n",
            "       1    1.6000000e+01   0.000000e+00   0.000000e+00      0s\n",
            "\n",
            "Solved in 1 iterations and 0.02 seconds (0.00 work units)\n",
            "Optimal objective  1.600000000e+01\n",
            "Produção de mesas  4.0\n",
            "Produção de cadeiras 0.0\n"
          ]
        },
        {
          "output_type": "error",
          "ename": "AttributeError",
          "evalue": "ignored",
          "traceback": [
            "\u001b[0;31m---------------------------------------------------------------------------\u001b[0m",
            "\u001b[0;31mAttributeError\u001b[0m                            Traceback (most recent call last)",
            "\u001b[0;32m<ipython-input-38-acf6cef782e1>\u001b[0m in \u001b[0;36m<module>\u001b[0;34m()\u001b[0m\n\u001b[1;32m     14\u001b[0m \u001b[0mprint\u001b[0m\u001b[0;34m(\u001b[0m\u001b[0;34m\"Produção de mesas \"\u001b[0m\u001b[0;34m,\u001b[0m \u001b[0mx1\u001b[0m\u001b[0;34m.\u001b[0m\u001b[0mX\u001b[0m\u001b[0;34m)\u001b[0m\u001b[0;34m\u001b[0m\u001b[0;34m\u001b[0m\u001b[0m\n\u001b[1;32m     15\u001b[0m \u001b[0mprint\u001b[0m\u001b[0;34m(\u001b[0m\u001b[0;34m\"Produção de cadeiras\"\u001b[0m\u001b[0;34m,\u001b[0m \u001b[0mx2\u001b[0m\u001b[0;34m.\u001b[0m\u001b[0mX\u001b[0m\u001b[0;34m)\u001b[0m\u001b[0;34m\u001b[0m\u001b[0;34m\u001b[0m\u001b[0m\n\u001b[0;32m---> 16\u001b[0;31m \u001b[0mmodelo\u001b[0m\u001b[0;34m.\u001b[0m\u001b[0mplot\u001b[0m\u001b[0;34m(\u001b[0m\u001b[0mx1\u001b[0m\u001b[0;34m.\u001b[0m\u001b[0mX\u001b[0m\u001b[0;34m,\u001b[0m \u001b[0mx2\u001b[0m\u001b[0;34m.\u001b[0m\u001b[0mX\u001b[0m\u001b[0;34m)\u001b[0m\u001b[0;34m\u001b[0m\u001b[0;34m\u001b[0m\u001b[0m\n\u001b[0m",
            "\u001b[0;32msrc/gurobipy/model.pxi\u001b[0m in \u001b[0;36mgurobipy.Model.__getattr__\u001b[0;34m()\u001b[0m\n",
            "\u001b[0;32msrc/gurobipy/model.pxi\u001b[0m in \u001b[0;36mgurobipy.Model.getAttr\u001b[0;34m()\u001b[0m\n",
            "\u001b[0;32msrc/gurobipy/attrutil.pxi\u001b[0m in \u001b[0;36mgurobipy.__getattrinfo\u001b[0;34m()\u001b[0m\n",
            "\u001b[0;31mAttributeError\u001b[0m: 'gurobipy.Model' object has no attribute 'plot'"
          ]
        }
      ]
    },
    {
      "cell_type": "code",
      "source": [
        "import matplotlib.pyplot as plt\n",
        "import gurobipy as gp\n",
        "import numpy as np\n",
        "\n",
        "modelo = gp.Model(\"marcenaria\")\n",
        "\n",
        "x1 = modelo.addVar()\n",
        "x2 = modelo.addVar()\n",
        "\n",
        "modelo.setObjective(3 * x1 + 4 * x2, sense = gp.GRB.MAXIMIZE)\n",
        "restricao_1 = modelo.addConstr(2 * x1 + 5 * x2 <= 30)\n",
        "restricao_2 = modelo.addConstr(4 * x1 + 2 * x2 <= 20)\n",
        "modelo.optimize()\n",
        "\n",
        "print(\"Produção de mesas \", x1.X)\n",
        "print(\"Produção de cadeiras\", x2.X)\n",
        "\n"
      ],
      "metadata": {
        "colab": {
          "base_uri": "https://localhost:8080/"
        },
        "id": "PbPUuihGZ_JU",
        "outputId": "e8b4d60a-8111-42b2-f6d8-b1976f89e191"
      },
      "execution_count": null,
      "outputs": [
        {
          "output_type": "stream",
          "name": "stdout",
          "text": [
            "Gurobi Optimizer version 9.5.1 build v9.5.1rc2 (linux64)\n",
            "Thread count: 1 physical cores, 2 logical processors, using up to 2 threads\n",
            "Optimize a model with 2 rows, 2 columns and 4 nonzeros\n",
            "Model fingerprint: 0xdc6f5595\n",
            "Coefficient statistics:\n",
            "  Matrix range     [2e+00, 5e+00]\n",
            "  Objective range  [3e+00, 4e+00]\n",
            "  Bounds range     [0e+00, 0e+00]\n",
            "  RHS range        [2e+01, 3e+01]\n",
            "Presolve time: 0.02s\n",
            "Presolved: 2 rows, 2 columns, 4 nonzeros\n",
            "\n",
            "Iteration    Objective       Primal Inf.    Dual Inf.      Time\n",
            "       0    7.0000000e+30   2.375000e+30   7.000000e+00      0s\n",
            "       2    2.7500000e+01   0.000000e+00   0.000000e+00      0s\n",
            "\n",
            "Solved in 2 iterations and 0.04 seconds (0.00 work units)\n",
            "Optimal objective  2.750000000e+01\n",
            "Produção de mesas  2.5\n",
            "Produção de cadeiras 5.0\n"
          ]
        }
      ]
    },
    {
      "cell_type": "code",
      "source": [
        "from scipy.optimize import linprog\n",
        "import matplotlib.pyplot as plt\n",
        "from matplotlib.patches import Polygon\n",
        "%matplotlib inline\n",
        "\n",
        "\n",
        "fig, ax = plt.subplots(figsize=(8, 6))\n",
        "ax.grid()\n",
        "\n",
        "# Draw constraint lines\n",
        "ax.hlines(0, -1, 17.5)\n",
        "ax.vlines(0, -1, 12)\n",
        "ax.plot(np.linspace(-1, 17.5, 100), 6-0.4*np.linspace(-1, 17.5, 100), color=\"c\")\n",
        "ax.plot(np.linspace(-1, 5.5, 100), 10-2*np.linspace(-1, 5.5, 100), color=\"c\")\n",
        "ax.text(1.5, 8, \"$2x_1 + 5x_2 \\leq 30$\", size=12)\n",
        "ax.text(10, 2.5, \"$4x_1 + 2x_2 \\leq 20$\", size=12)\n",
        "ax.text(-2, 2, \"$x_2 \\geq 0$\", size=12)\n",
        "ax.text(2.5, -0.7, \"$x_1 \\geq 0$\", size=12)\n",
        "\n",
        "# Draw the feasible region\n",
        "feasible_set = Polygon(np.array([[0, 0], \n",
        "                                 [0, 6], \n",
        "                                 [2.5, 5], \n",
        "                                 [5, 0]]), \n",
        "                       color=\"cyan\")\n",
        "ax.add_patch(feasible_set)\n",
        "\n",
        "# Draw the objective function\n",
        "ax.plot(np.linspace(-1, 5.5, 100), 3.875-0.75*np.linspace(-1, 5.5, 100), color=\"orange\")\n",
        "ax.plot(np.linspace(-1, 5.5, 100), 5.375-0.75*np.linspace(-1, 5.5, 100), color=\"orange\")\n",
        "ax.plot(np.linspace(-1, 5.5, 100), 6.875-0.75*np.linspace(-1, 5.5, 100), color=\"orange\")\n",
        "ax.arrow(-1.6, 5, 0, 2, width = 0.05, head_width=0.2, head_length=0.5, color=\"orange\")\n",
        "ax.text(5.7, 1, \"$z = 3x_1 + 4x_2$\", size=12)\n",
        "\n",
        "# Draw the optimal solution\n",
        "ax.plot(2.5, 5, \"*\", color=\"black\")\n",
        "ax.text(2.7, 5.2, \"Optimal Solution\", size=12)\n",
        "\n",
        "plt.show()"
      ],
      "metadata": {
        "colab": {
          "base_uri": "https://localhost:8080/",
          "height": 374
        },
        "id": "fLXlXXTJamet",
        "outputId": "abb43371-500f-474f-e49e-549caafa931e"
      },
      "execution_count": null,
      "outputs": [
        {
          "output_type": "display_data",
          "data": {
            "text/plain": [
              "<Figure size 576x432 with 1 Axes>"
            ],
            "image/png": "[encoded data removed]"
          },
          "metadata": {
            "needs_background": "light"
          }
        }
      ]
    },
    {
      "cell_type": "code",
      "source": [
        "!pip install graphilp\n",
        "import networkx as nx\n",
        "\n",
        "from graphilp.imports import networkx as imp_nx\n",
        "from graphilp.partitioning import min_vertex_coloring as vtx\n",
        "\n",
        "G_init = nx.cycle_graph(n=5)\n",
        "G = imp_nx.read(G_init)\n",
        "\n",
        "m = vtx.create_model(G)\n",
        "m.optimize()\n",
        "\n",
        "color_to_node, node_to_color = vtx.extract_solution(G, m)"
      ],
      "metadata": {
        "colab": {
          "base_uri": "https://localhost:8080/"
        },
        "id": "QNX-7gqRFK1U",
        "outputId": "05d3eb1e-157a-4a46-8920-9475dd968215"
      },
      "execution_count": null,
      "outputs": [
        {
          "output_type": "stream",
          "name": "stdout",
          "text": [
            "Requirement already satisfied: graphilp in /usr/local/lib/python3.7/dist-packages (0.1.0)\n",
            "Gurobi Optimizer version 9.5.1 build v9.5.1rc2 (linux64)\n",
            "Thread count: 1 physical cores, 2 logical processors, using up to 2 threads\n",
            "Optimize a model with 34 rows, 30 columns and 108 nonzeros\n",
            "Model fingerprint: 0x756791ca\n",
            "Variable types: 0 continuous, 30 integer (30 binary)\n",
            "Coefficient statistics:\n",
            "  Matrix range     [1e+00, 1e+00]\n",
            "  Objective range  [1e+00, 1e+00]\n",
            "  Bounds range     [1e+00, 1e+00]\n",
            "  RHS range        [1e+00, 1e+00]\n",
            "Found heuristic solution: objective 3.0000000\n",
            "Presolve removed 14 rows and 14 columns\n",
            "Presolve time: 0.00s\n",
            "Presolved: 20 rows, 16 columns, 50 nonzeros\n",
            "Variable types: 0 continuous, 16 integer (16 binary)\n",
            "\n",
            "Root relaxation: objective 2.000000e+00, 10 iterations, 0.00 seconds (0.00 work units)\n",
            "\n",
            "    Nodes    |    Current Node    |     Objective Bounds      |     Work\n",
            " Expl Unexpl |  Obj  Depth IntInf | Incumbent    BestBd   Gap | It/Node Time\n",
            "\n",
            "     0     0 infeasible    0         3.00000    3.00000  0.00%     -    0s\n",
            "\n",
            "Explored 1 nodes (14 simplex iterations) in 0.02 seconds (0.00 work units)\n",
            "Thread count was 2 (of 2 available processors)\n",
            "\n",
            "Solution count 1: 3 \n",
            "\n",
            "Optimal solution found (tolerance 1.00e-04)\n",
            "Best objective 3.000000000000e+00, best bound 3.000000000000e+00, gap 0.0000%\n"
          ]
        }
      ]
    },
    {
      "cell_type": "code",
      "source": [
        "import numpy as np\n",
        "from scipy import optimize\n",
        "import matplotlib.pyplot as plt\n",
        "\n",
        "x = np.arange(-10, 10, 0.1)\n",
        "def f(x):\n",
        "    return x**2 + 10*np.sin(x)\n",
        "\n",
        "grid = (-10, 10, 0.1)\n",
        "xmin_global = optimize.brute(f, (grid,))\n",
        "xmin_local = optimize.fminbound(f, 0, 10)\n",
        "root = optimize.fsolve(f, 1)  # chute inicial é 1\n",
        "root2 = optimize.fsolve(f, -2.5)\n",
        "\n",
        "xdata = np.linspace(-10, 10, num=20)\n",
        "np.random.seed(1234)\n",
        "ydata = f(xdata) + np.random.randn(xdata.size)\n",
        "\n",
        "def f2(x, a, b):\n",
        "    return a*x**2 + b*np.sin(x)\n",
        "\n",
        "guess = [2, 2]\n",
        "params, params_covariance = optimize.curve_fit(f2, xdata, ydata, guess)\n",
        "\n",
        "fig = plt.figure()\n",
        "ax = fig.add_subplot(111)\n",
        "ax.plot(x, f(x), 'b-', label=\"f(x)\")\n",
        "ax.plot(x, f2(x, *params), 'r--', label=\"Resultado do Ajuste de Curva\")\n",
        "xmins = np.array([xmin_global[0], xmin_local])\n",
        "ax.plot(xmins, f(xmins), 'go', label=\"Minimo\")\n",
        "roots = np.array([root, root2])\n",
        "ax.plot(roots, f(roots), 'kv', label=\"Raizes\")\n",
        "ax.legend()\n",
        "ax.set_xlabel('x')\n",
        "ax.set_ylabel('f(x)')"
      ],
      "metadata": {
        "colab": {
          "base_uri": "https://localhost:8080/",
          "height": 297
        },
        "id": "YiJ-6dAaK9qa",
        "outputId": "c1c860d7-6953-456f-8a73-301481bf0393"
      },
      "execution_count": null,
      "outputs": [
        {
          "output_type": "execute_result",
          "data": {
            "text/plain": [
              "Text(0, 0.5, 'f(x)')"
            ]
          },
          "metadata": {},
          "execution_count": 35
        },
        {
          "output_type": "display_data",
          "data": {
            "text/plain": [
              "<Figure size 432x288 with 1 Axes>"
            ],
            "image/png": "[encoded data removed]"
          },
          "metadata": {
            "needs_background": "light"
          }
        }
      ]
    },
    {
      "cell_type": "code",
      "source": [
        "!pip install pulp\n",
        "from pulp import *\n",
        "import matplotlib.pyplot as plt\n",
        "import numpy as np"
      ],
      "metadata": {
        "colab": {
          "base_uri": "https://localhost:8080/"
        },
        "id": "2lPFeSgXX3j4",
        "outputId": "81e1fb09-2cfa-4790-e4be-d2eda5e511fc"
      },
      "execution_count": null,
      "outputs": [
        {
          "output_type": "stream",
          "name": "stdout",
          "text": [
            "Collecting pulp\n",
            "  Downloading PuLP-2.6.0-py3-none-any.whl (14.2 MB)\n",
            "\u001b[K     |████████████████████████████████| 14.2 MB 4.2 MB/s \n",
            "\u001b[?25hInstalling collected packages: pulp\n",
            "Successfully installed pulp-2.6.0\n"
          ]
        }
      ]
    },
    {
      "cell_type": "code",
      "source": [
        "# Create an object of a model\n",
        "prob = LpProblem(\"Simple LP Problem\", LpMinimize)"
      ],
      "metadata": {
        "colab": {
          "base_uri": "https://localhost:8080/"
        },
        "id": "Wy_pjZieX6EH",
        "outputId": "8234af2e-04f3-4807-8551-d71d8e7452bc"
      },
      "execution_count": null,
      "outputs": [
        {
          "output_type": "stream",
          "name": "stderr",
          "text": [
            "/usr/local/lib/python3.7/dist-packages/pulp/pulp.py:1352: UserWarning: Spaces are not permitted in the name. Converted to '_'\n",
            "  warnings.warn(\"Spaces are not permitted in the name. Converted to '_'\")\n"
          ]
        }
      ]
    }
  ]
}