{
  "nbformat": 4,
  "nbformat_minor": 0,
  "metadata": {
    "colab": {
      "provenance": [],
      "collapsed_sections": [
        "Fn7g7gOTlQ7s",
        "0ReJ_oYClTqE",
        "YB6QSW9rmJfp",
        "59GEKIyDraSl"
      ]
    },
    "kernelspec": {
      "name": "python3",
      "display_name": "Python 3"
    },
    "language_info": {
      "name": "python"
    }
  },
  "cells": [
    {
      "cell_type": "markdown",
      "metadata": {
        "id": "bBA45Wuyk9U-"
      },
      "source": [
        "# **Quebra-cabeça de 8 Peças**"
      ]
    },
    {
      "cell_type": "markdown",
      "metadata": {
        "id": "Er3Ic1lOlQyH"
      },
      "source": [
        "![picture](https://www.researchgate.net/publication/280545587/figure/fig1/AS:393229527732224@1470764633027/8-Puzzle-problem-example.png)"
      ]
    },
    {
      "cell_type": "code",
      "metadata": {
        "id": "AK8Jsnn3tAjy",
        "colab": {
          "base_uri": "https://localhost:8080/"
        },
        "outputId": "f1888cd6-bc54-41f3-be57-8ab04bdb2b94"
      },
      "source": [
        "# Bibliotecas\n",
        "import queue as Q             # Estrutura de dados: fila\n",
        "!pip install ipython-autotime # Temporizador\n",
        "%load_ext autotime"
      ],
      "execution_count": null,
      "outputs": [
        {
          "output_type": "stream",
          "text": [
            "Collecting ipython-autotime\n",
            "  Downloading ipython_autotime-0.3.1-py2.py3-none-any.whl (6.8 kB)\n",
            "Requirement already satisfied: ipython in /usr/local/lib/python3.7/dist-packages (from ipython-autotime) (5.5.0)\n",
            "Requirement already satisfied: traitlets>=4.2 in /usr/local/lib/python3.7/dist-packages (from ipython->ipython-autotime) (5.0.5)\n",
            "Requirement already satisfied: pickleshare in /usr/local/lib/python3.7/dist-packages (from ipython->ipython-autotime) (0.7.5)\n",
            "Requirement already satisfied: decorator in /usr/local/lib/python3.7/dist-packages (from ipython->ipython-autotime) (4.4.2)\n",
            "Requirement already satisfied: simplegeneric>0.8 in /usr/local/lib/python3.7/dist-packages (from ipython->ipython-autotime) (0.8.1)\n",
            "Requirement already satisfied: pexpect in /usr/local/lib/python3.7/dist-packages (from ipython->ipython-autotime) (4.8.0)\n",
            "Requirement already satisfied: setuptools>=18.5 in /usr/local/lib/python3.7/dist-packages (from ipython->ipython-autotime) (57.4.0)\n",
            "Requirement already satisfied: prompt-toolkit<2.0.0,>=1.0.4 in /usr/local/lib/python3.7/dist-packages (from ipython->ipython-autotime) (1.0.18)\n",
            "Requirement already satisfied: pygments in /usr/local/lib/python3.7/dist-packages (from ipython->ipython-autotime) (2.6.1)\n",
            "Requirement already satisfied: wcwidth in /usr/local/lib/python3.7/dist-packages (from prompt-toolkit<2.0.0,>=1.0.4->ipython->ipython-autotime) (0.2.5)\n",
            "Requirement already satisfied: six>=1.9.0 in /usr/local/lib/python3.7/dist-packages (from prompt-toolkit<2.0.0,>=1.0.4->ipython->ipython-autotime) (1.15.0)\n",
            "Requirement already satisfied: ipython-genutils in /usr/local/lib/python3.7/dist-packages (from traitlets>=4.2->ipython->ipython-autotime) (0.2.0)\n",
            "Requirement already satisfied: ptyprocess>=0.5 in /usr/local/lib/python3.7/dist-packages (from pexpect->ipython->ipython-autotime) (0.7.0)\n",
            "Installing collected packages: ipython-autotime\n",
            "Successfully installed ipython-autotime-0.3.1\n",
            "time: 1.98 ms (started: 2021-08-19 20:10:42 +00:00)\n"
          ],
          "name": "stdout"
        }
      ]
    },
    {
      "cell_type": "markdown",
      "metadata": {
        "id": "Fn7g7gOTlQ7s"
      },
      "source": [
        "## Classe do nó"
      ]
    },
    {
      "cell_type": "code",
      "metadata": {
        "id": "s-GqHr89k7U7",
        "colab": {
          "base_uri": "https://localhost:8080/"
        },
        "outputId": "e1a29ce1-9a3c-49b2-f756-fdfcb5acc094"
      },
      "source": [
        "class Node:\n",
        "    \n",
        "    def __init__(self, node, step, GraphNode, Link):\n",
        "        self.UID = \"\"\n",
        "        self.step = step\n",
        "        self.node = node\n",
        "        self.distance_top = 0\n",
        "        self.distance = 0\n",
        "        self.GraphNode = GraphNode\n",
        "        self.Link = Link\n",
        "        for i in range(len(node)):\n",
        "            GraphNode.append([])\n",
        "            for j in range(len(node[i])):\n",
        "                GraphNode[i].append(node[i][j])\n",
        "                self.UID += str(node[i][j])\n",
        "\n",
        "    def isEqual(self, node2):\n",
        "        return self.UID == node2.UID\n",
        "    \n",
        "    def DeepCopy(self):\n",
        "        node = []\n",
        "        for i in range(len(self.GraphNode)):\n",
        "            node.append([])\n",
        "            for j in range(len(self.GraphNode[i])):\n",
        "                node[i].append(self.GraphNode[i][j])\n",
        "        return node\n",
        "\n",
        "    def __str__(self):\n",
        "        ans = \"\"\n",
        "        for i in range(len(self.GraphNode)):\n",
        "            ans += self.GraphNode[i] + \"\\n\"\n",
        "        return ans\n",
        "\n",
        "    def __cmp__(self, other):\n",
        "        return cmp(self.distance, other.distance)\n",
        "\n",
        "    def __lt__(self, other):\n",
        "        return self.distance_top < other.distance_top\n",
        "\n",
        "    def __eq__(self, other):\n",
        "        return self.distance_top == other.distance_top"
      ],
      "execution_count": null,
      "outputs": [
        {
          "output_type": "stream",
          "text": [
            "time: 31.1 ms (started: 2021-08-19 20:12:19 +00:00)\n"
          ],
          "name": "stdout"
        }
      ]
    },
    {
      "cell_type": "markdown",
      "metadata": {
        "id": "0ReJ_oYClTqE"
      },
      "source": [
        "## Classe do grafo"
      ]
    },
    {
      "cell_type": "code",
      "metadata": {
        "id": "wDQtahE9lTw9",
        "colab": {
          "base_uri": "https://localhost:8080/"
        },
        "outputId": "2eaac205-e364-4f29-cd79-f23bf1c84bbb"
      },
      "source": [
        "class Graph:\n",
        "    \n",
        "    def __init__(self, size):\n",
        "        self.size = size\n",
        "        \n",
        "    def isVisited(node, visit):\n",
        "        for i in range(len(visit)):\n",
        "            if node.isEqual(visit[i]):\n",
        "                return True\n",
        "        return False\n",
        "\n",
        "    def FindZero(NodeArg):\n",
        "        for i in range(len(NodeArg.GraphNode)):\n",
        "            for j in range(len(NodeArg.GraphNode[i])):\n",
        "                if ( NodeArg.GraphNode[i][j] == 0 ):\n",
        "                    return [i, j]\n",
        "        print(-1, -1)\n",
        "        return [-1, -1]    \n",
        "\n",
        "    def FindAllNode(node):\n",
        "        Children = []\n",
        "        temp = Graph.FindZero(node)\n",
        "        x = temp[0]\n",
        "        y = temp[1]\n",
        "        temp_node = node.DeepCopy()\n",
        "\n",
        "        if ( x == 0 and y == 0 ):\n",
        "            temp_node[x][y] = temp_node[x+1][y]\n",
        "            temp_node[x+1][y] = 0\n",
        "            n1 = Node(temp_node, node.step+1, [],None)\n",
        "            Children.append(n1)\n",
        "            temp_node[x+1][y] = temp_node[x][y]\n",
        "            temp_node[x][y] = 0\n",
        "\n",
        "            temp_node[x][y] = temp_node[x][y+1]\n",
        "            temp_node[x][y+1] = 0\n",
        "            n1 = Node(temp_node, node.step+1, [],None)\n",
        "            Children.append(n1)\n",
        "            temp_node[x][y+1] = temp_node[x][y]\n",
        "            temp_node[x][y] = 0\n",
        "\n",
        "        elif ( x == 0 and y == (len(node.GraphNode[x])-1) ):\n",
        "            temp_node[x][y] = temp_node[x+1][y]\n",
        "            temp_node[x+1][y] = 0\n",
        "            n1 = Node(temp_node, node.step+1, [],None)\n",
        "            Children.append(n1)\n",
        "            temp_node[x+1][y] = temp_node[x][y]\n",
        "            temp_node[x][y] = 0\n",
        "\n",
        "            temp_node[x][y] = temp_node[x][y-1]\n",
        "            temp_node[x][y-1] = 0\n",
        "            n1 = Node(temp_node, node.step+1, [],None)\n",
        "            Children.append(n1)\n",
        "            temp_node[x][y-1] = temp_node[x][y]\n",
        "            temp_node[x][y] = 0\n",
        "\n",
        "        elif ( x == (len(node.GraphNode[y])-1) and y == 0 ):\n",
        "            temp_node[x][y] = temp_node[x][y+1]\n",
        "            temp_node[x][y+1] = 0\n",
        "            n1 = Node(temp_node, node.step+1, [],None)\n",
        "            Children.append(n1)\n",
        "            temp_node[x][y+1] = temp_node[x][y]\n",
        "            temp_node[x][y] = 0\n",
        "\n",
        "            temp_node[x][y] = temp_node[x-1][y]\n",
        "            temp_node[x-1][y] = 0\n",
        "            n1 = Node(temp_node, node.step+1, [],None)\n",
        "            Children.append(n1)\n",
        "            temp_node[x-1][y] = temp_node[x][y]\n",
        "            temp_node[x][y] = 0\n",
        "\n",
        "        elif ( x == (len(node.GraphNode[y])-1) and y == (len(node.GraphNode[x])-1) ):\n",
        "            temp_node[x][y] = temp_node[x-1][y]\n",
        "            temp_node[x-1][y] = 0\n",
        "            n1 = Node(temp_node, node.step+1, [],None)\n",
        "            Children.append(n1)\n",
        "            temp_node[x-1][y] = temp_node[x][y]\n",
        "            temp_node[x][y] = 0\n",
        "\n",
        "            temp_node[x][y] = temp_node[x][y-1]\n",
        "            temp_node[x][y-1] = 0\n",
        "            n1 = Node(temp_node, node.step+1, [],None)\n",
        "            Children.append(n1)\n",
        "            temp_node[x][y-1] = temp_node[x][y]\n",
        "            temp_node[x][y] = 0\n",
        "            \n",
        "        elif ( x > 0 and x < len(node.GraphNode[y]) and y == 0 ):\n",
        "            temp_node[x][y] = temp_node[x+1][y]\n",
        "            temp_node[x+1][y] = 0\n",
        "            n1 = Node(temp_node, node.step+1, [],None)\n",
        "            Children.append(n1)\n",
        "            temp_node[x+1][y] = temp_node[x][y]\n",
        "            temp_node[x][y] = 0\n",
        "\n",
        "            temp_node[x][y] = temp_node[x-1][y]\n",
        "            temp_node[x-1][y] = 0\n",
        "            n1 = Node(temp_node, node.step+1, [],None)\n",
        "            Children.append(n1)\n",
        "            temp_node[x-1][y] = temp_node[x][y]\n",
        "            temp_node[x][y] = 0\n",
        "\n",
        "            temp_node[x][y] = temp_node[x][y+1]\n",
        "            temp_node[x][y+1] = 0\n",
        "            n1 = Node(temp_node, node.step+1, [],None)\n",
        "            Children.append(n1)\n",
        "            temp_node[x][y+1] = temp_node[x][y]\n",
        "            temp_node[x][y] = 0\n",
        "\n",
        "        elif ( x == 0 and y > 0 and y < len(node.GraphNode[x]) ):\n",
        "            temp_node[x][y] = temp_node[x+1][y]\n",
        "            temp_node[x+1][y] = 0\n",
        "            n1 = Node(temp_node, node.step+1, [],None)\n",
        "            Children.append(n1)\n",
        "            temp_node[x+1][y] = temp_node[x][y]\n",
        "            temp_node[x][y] = 0\n",
        "\n",
        "            temp_node[x][y] = temp_node[x][y+1]\n",
        "            temp_node[x][y+1] = 0\n",
        "            n1 = Node(temp_node, node.step+1, [],None)\n",
        "            Children.append(n1)\n",
        "            temp_node[x][y+1] = temp_node[x][y]\n",
        "            temp_node[x][y] = 0\n",
        "\n",
        "            temp_node[x][y] = temp_node[x][y-1]\n",
        "            temp_node[x][y-1] = 0\n",
        "            n1 = Node(temp_node, node.step+1, [],None)\n",
        "            Children.append(n1)\n",
        "            temp_node[x][y-1] = temp_node[x][y]\n",
        "            temp_node[x][y] = 0\n",
        "\n",
        "        elif ( x > 0 and x < len(node.GraphNode[y]) and y == (len(node.GraphNode[x])-1) ):\n",
        "            temp_node[x][y] = temp_node[x+1][y]\n",
        "            temp_node[x+1][y] = 0\n",
        "            n1 = Node(temp_node, node.step+1, [],None)\n",
        "            Children.append(n1)\n",
        "            temp_node[x+1][y] = temp_node[x][y]\n",
        "            temp_node[x][y] = 0\n",
        "\n",
        "            temp_node[x][y] = temp_node[x-1][y]\n",
        "            temp_node[x-1][y] = 0\n",
        "            n1 = Node(temp_node, node.step+1, [],None)\n",
        "            Children.append(n1)\n",
        "            temp_node[x-1][y] = temp_node[x][y]\n",
        "            temp_node[x][y] = 0\n",
        "            \n",
        "            temp_node[x][y] = temp_node[x][y-1]\n",
        "            temp_node[x][y-1] = 0\n",
        "            n1 = Node(temp_node, node.step+1, [],None)\n",
        "            Children.append(n1)\n",
        "            temp_node[x][y-1] = temp_node[x][y]\n",
        "            temp_node[x][y] = 0\n",
        "            \n",
        "        elif ( x == (len(node.GraphNode[y])-1) and y > 0 and y < len(node.GraphNode[x]) ):\n",
        "            temp_node[x][y] = temp_node[x-1][y]\n",
        "            temp_node[x-1][y] = 0\n",
        "            n1 = Node(temp_node, node.step+1, [],None)\n",
        "            Children.append(n1)\n",
        "            temp_node[x-1][y] = temp_node[x][y]\n",
        "            temp_node[x][y] = 0 \n",
        "            \n",
        "            temp_node[x][y] = temp_node[x][y-1]\n",
        "            temp_node[x][y-1] = 0\n",
        "            n1 = Node(temp_node, node.step+1, [],None)\n",
        "            Children.append(n1)\n",
        "            temp_node[x][y-1] = temp_node[x][y]\n",
        "            temp_node[x][y] = 0\n",
        "\n",
        "            temp_node[x][y] = temp_node[x][y+1]\n",
        "            temp_node[x][y+1] = 0\n",
        "            n1 = Node(temp_node, node.step+1, [],None)\n",
        "            Children.append(n1)\n",
        "            temp_node[x][y+1] = temp_node[x][y]\n",
        "            temp_node[x][y] = 0\n",
        "\n",
        "        else:\n",
        "            temp_node[x][y] = temp_node[x-1][y]\n",
        "            temp_node[x-1][y] = 0\n",
        "            n1 = Node(temp_node, node.step+1, [],None)\n",
        "            Children.append(n1)\n",
        "            temp_node[x-1][y] = temp_node[x][y]\n",
        "            temp_node[x][y] = 0 \n",
        "            \n",
        "            temp_node[x][y] = temp_node[x][y-1]\n",
        "            temp_node[x][y-1] = 0\n",
        "            n1 = Node(temp_node, node.step+1, [],None)\n",
        "            Children.append(n1)\n",
        "            temp_node[x][y-1] = temp_node[x][y]\n",
        "            temp_node[x][y] = 0\n",
        "\n",
        "            temp_node[x][y] = temp_node[x][y+1]\n",
        "            temp_node[x][y+1] = 0\n",
        "            n1 = Node(temp_node, node.step+1, [],None)\n",
        "            Children.append(n1)\n",
        "            temp_node[x][y+1] = temp_node[x][y]\n",
        "            temp_node[x][y] = 0\n",
        "\n",
        "            temp_node[x][y] = temp_node[x+1][y]\n",
        "            temp_node[x+1][y] = 0\n",
        "            n1 = Node(temp_node, node.step+1, [],None)\n",
        "            Children.append(n1)\n",
        "            temp_node[x+1][y] = temp_node[x][y]\n",
        "            temp_node[x][y] = 0\n",
        "        return Children\n",
        "\n",
        "        \n",
        "    def Bfs(self, root, end):\n",
        "        visited = {}\n",
        "        queue = []\n",
        "        queue.append(root)\n",
        "        visited[root.UID] = root\n",
        "        Count = 0\n",
        "        while ( True ):\n",
        "            Count += 1\n",
        "            if ( len(queue) == 0 ):\n",
        "                return False\n",
        "            current_Node = queue.pop(0)\n",
        "            if ( current_Node.isEqual(end) ):\n",
        "                print(\"Nós visitados: \", Count)\n",
        "                print(\"Profundidade : \",current_Node.step)\n",
        "                return True\n",
        "            Neighbours = Graph.FindAllNode(current_Node)\n",
        "            current_Node.Link = Neighbours\n",
        "\n",
        "            for i in range(len(Neighbours)):\n",
        "                if Neighbours[i].UID not in visited:\n",
        "                    Neighbours[i].step = current_Node.step + 1\n",
        "                    queue.append(Neighbours[i])\n",
        "                    visited[Neighbours[i].UID] = Neighbours[i]    \n",
        "\n",
        "\n",
        "    def Dfs(self, root, end):\n",
        "        visited = {}\n",
        "        stack = []\n",
        "        stack.append(root)\n",
        "        Count = 0\n",
        "\n",
        "        while ( len(stack) > 0 ):\n",
        "            Count += 1\n",
        "            current_Node = stack.pop()\n",
        "            if ( current_Node.isEqual(end) ):\n",
        "                print(\"Nós visitados: \", Count)\n",
        "                print(\"Profundidade : \",current_Node.step)\n",
        "                return True\n",
        "            if ( current_Node.UID in visited ):\n",
        "                continue\n",
        "            visited[current_Node.UID] = current_Node\n",
        "            Neighbours = Graph.FindAllNode(current_Node)\n",
        "            current_Node.Link = Neighbours\n",
        "\n",
        "            for i in range(len(Neighbours)):\n",
        "                Neighbours[i].step = current_Node.step + 1\n",
        "                stack.append(Neighbours[i])\n",
        "            \n",
        "        return False\n",
        "            \n",
        "    def DfsRec(self, root, end):\n",
        "        visited = {}\n",
        "        return self.DfsUtil(root, end, visited)\n",
        "\n",
        "    def DfsUtil(self, current_node, end, visited):\n",
        "        visited[current_node.UID] = current_node\n",
        "        if ( current_node.isEqual(end) ):\n",
        "            return True\n",
        "\n",
        "        Neighbours = Graph.FindAllNode(current_node)\n",
        "        current_node.Link = Neighbours\n",
        "\n",
        "        for i in range(len(Neighbours)):\n",
        "            if Neighbours[i].UID not in visited:\n",
        "                Neighbours[i].step += current_node.step\n",
        "                var = self.DfsUtil(Neighbours[i], end, visited) \n",
        "                if ( var == True ):\n",
        "                    return var\n",
        "    \n",
        "    def CalculateManhattanDistance(self, node, end):\n",
        "        arr = [0]*(self.size+1)\n",
        "        brr = [0]*(self.size+1)\n",
        "        for i in range(len(node.GraphNode)):\n",
        "            for j in range(len(node.GraphNode[i])):\n",
        "                arr[node.GraphNode[i][j]] = [i, j]\n",
        "\n",
        "        for i in range(len(end.GraphNode)):\n",
        "            for j in range(len(end.GraphNode[i])):\n",
        "                brr[end.GraphNode[i][j]] = [i, j]\n",
        "        dist = 0\n",
        "        for i in range(1, len(arr)):\n",
        "            dist += abs(arr[i][0]-brr[i][0]) + abs(arr[i][1]-brr[i][1])\n",
        "        return dist\n",
        "    \n",
        "    def AStarAlgorithm(self, root, end):\n",
        "        visited = {}\n",
        "        q = Q.PriorityQueue()\n",
        "        dist = self.CalculateManhattanDistance(root, end)\n",
        "        root.distance = dist\n",
        "        q.put((1, root))\n",
        "        visited[root.UID] = root\n",
        "        Count = 0\n",
        "\n",
        "        while ( not q.empty() ):\n",
        "            Count += 1\n",
        "            current_Node = (q.get())[1]\n",
        "            if ( current_Node.isEqual(end) ):\n",
        "                print(\"Nós visitados: \", Count)\n",
        "                print(\"Profundidade : \",current_Node.step)\n",
        "                return True\n",
        "            \n",
        "            Neighbours = Graph.FindAllNode(current_Node)\n",
        "            current_Node.Link = Neighbours\n",
        "\n",
        "            for i in range(len(Neighbours)):\n",
        "                if Neighbours[i].UID not in visited:\n",
        "                    dist = self.CalculateManhattanDistance(Neighbours[i], end)\n",
        "                    Neighbours[i].distance_top = current_Node.distance_top + 1\n",
        "                    Neighbours[i].distance = Neighbours[i].distance_top + dist\n",
        "                    Neighbours[i].step = current_Node.step + 1\n",
        "                    q.put((Neighbours[i].distance, Neighbours[i]))\n",
        "                    visited[Neighbours[i].UID] = Neighbours[i]\n",
        "\n",
        "        return False   "
      ],
      "execution_count": null,
      "outputs": [
        {
          "output_type": "stream",
          "text": [
            "time: 1.58 s (started: 2021-08-19 20:12:23 +00:00)\n"
          ],
          "name": "stdout"
        }
      ]
    },
    {
      "cell_type": "markdown",
      "metadata": {
        "id": "YB6QSW9rmJfp"
      },
      "source": [
        "## Caso solucionável"
      ]
    },
    {
      "cell_type": "code",
      "metadata": {
        "id": "PgEBBxx8ns54",
        "colab": {
          "base_uri": "https://localhost:8080/"
        },
        "outputId": "71bd8bcb-919d-476b-fafb-1b399dbd57c1"
      },
      "source": [
        "# Tamanho do quebra-cabeça\n",
        "N = 8"
      ],
      "execution_count": null,
      "outputs": [
        {
          "output_type": "stream",
          "text": [
            "time: 1.3 ms (started: 2021-08-19 20:14:41 +00:00)\n"
          ],
          "name": "stdout"
        }
      ]
    },
    {
      "cell_type": "code",
      "metadata": {
        "id": "eq8X3H0on01w",
        "colab": {
          "base_uri": "https://localhost:8080/"
        },
        "outputId": "c95b1d7a-d76b-4de7-f5d4-34c52e93b7fc"
      },
      "source": [
        "# Define o estado inicial\n",
        "StartState = [[0, 2, 3], \n",
        "              [1, 4, 5], \n",
        "              [8, 7, 6]]"
      ],
      "execution_count": null,
      "outputs": [
        {
          "output_type": "stream",
          "text": [
            "time: 1.2 ms (started: 2021-08-19 20:14:44 +00:00)\n"
          ],
          "name": "stdout"
        }
      ]
    },
    {
      "cell_type": "code",
      "metadata": {
        "id": "DEZnav6un33X",
        "colab": {
          "base_uri": "https://localhost:8080/"
        },
        "outputId": "b193d05b-c9fa-4a01-cdd9-ecc2917dc2a9"
      },
      "source": [
        "# Define o estado alvo\n",
        "GoalState = [[1, 2, 3], \n",
        "             [8, 0, 4], \n",
        "             [7, 6, 5]]"
      ],
      "execution_count": null,
      "outputs": [
        {
          "output_type": "stream",
          "text": [
            "time: 1.42 ms (started: 2021-08-19 20:14:46 +00:00)\n"
          ],
          "name": "stdout"
        }
      ]
    },
    {
      "cell_type": "code",
      "metadata": {
        "id": "ddLC4t7HoE7_",
        "colab": {
          "base_uri": "https://localhost:8080/"
        },
        "outputId": "22e43228-adb2-4e7a-c4fc-24b3430af056"
      },
      "source": [
        "# Cria o grafo\n",
        "gp = Graph(N)\n",
        "\n",
        "# Cria os nós inicial e final\n",
        "Root = Node(StartState, 0, [], None)\n",
        "End = Node(GoalState, 0, [], None)"
      ],
      "execution_count": null,
      "outputs": [
        {
          "output_type": "stream",
          "text": [
            "time: 2.48 ms (started: 2021-08-19 20:14:50 +00:00)\n"
          ],
          "name": "stdout"
        }
      ]
    },
    {
      "cell_type": "code",
      "metadata": {
        "id": "wSEmw3M3oNy_",
        "colab": {
          "base_uri": "https://localhost:8080/"
        },
        "outputId": "747ac5a8-caab-41a2-f676-25a6d53fbaec"
      },
      "source": [
        "# Executa a busca em largura\n",
        "gp.Bfs(Root, End)"
      ],
      "execution_count": null,
      "outputs": [
        {
          "output_type": "stream",
          "text": [
            "Nós visitados:  59\n",
            "Profundidade :  6\n"
          ],
          "name": "stdout"
        },
        {
          "output_type": "execute_result",
          "data": {
            "text/plain": [
              "True"
            ]
          },
          "metadata": {},
          "execution_count": 9
        },
        {
          "output_type": "stream",
          "text": [
            "time: 13.5 ms (started: 2021-08-19 20:15:26 +00:00)\n"
          ],
          "name": "stdout"
        }
      ]
    },
    {
      "cell_type": "code",
      "metadata": {
        "id": "wmRHz6W2oU2N",
        "colab": {
          "base_uri": "https://localhost:8080/"
        },
        "outputId": "35438e6c-2ec0-4b86-e2c3-9a5530185021"
      },
      "source": [
        "# Executa a busca em profundidade\n",
        "gp.Dfs(Root, End)"
      ],
      "execution_count": null,
      "outputs": [
        {
          "output_type": "stream",
          "text": [
            "Nós visitados:  1807\n",
            "Profundidade :  1320\n"
          ],
          "name": "stdout"
        },
        {
          "output_type": "execute_result",
          "data": {
            "text/plain": [
              "True"
            ]
          },
          "metadata": {},
          "execution_count": 10
        },
        {
          "output_type": "stream",
          "text": [
            "time: 125 ms (started: 2021-08-19 20:15:30 +00:00)\n"
          ],
          "name": "stdout"
        }
      ]
    },
    {
      "cell_type": "code",
      "metadata": {
        "id": "rsZ6IOjVoe33",
        "colab": {
          "base_uri": "https://localhost:8080/"
        },
        "outputId": "0117cfef-f04d-4464-8266-62cee56146b5"
      },
      "source": [
        "# Executa a busca A*\n",
        "gp.AStarAlgorithm(Root, End)"
      ],
      "execution_count": null,
      "outputs": [
        {
          "output_type": "stream",
          "text": [
            "Nós visitados:  7\n",
            "Profundidade :  6\n"
          ],
          "name": "stdout"
        },
        {
          "output_type": "execute_result",
          "data": {
            "text/plain": [
              "True"
            ]
          },
          "metadata": {},
          "execution_count": 11
        },
        {
          "output_type": "stream",
          "text": [
            "time: 15.5 ms (started: 2021-08-19 20:16:30 +00:00)\n"
          ],
          "name": "stdout"
        }
      ]
    },
    {
      "cell_type": "markdown",
      "metadata": {
        "id": "Pz_7x31BqsUs"
      },
      "source": [
        "## Caso não solucionável"
      ]
    },
    {
      "cell_type": "code",
      "metadata": {
        "id": "zPtZLAg2qt0M",
        "colab": {
          "base_uri": "https://localhost:8080/"
        },
        "outputId": "4f1e924c-579c-47f5-8d74-b6524fae4c07"
      },
      "source": [
        "# Tamanho do quebra-cabeça\n",
        "N = 8"
      ],
      "execution_count": null,
      "outputs": [
        {
          "output_type": "stream",
          "text": [
            "time: 1.01 ms (started: 2021-08-19 20:24:55 +00:00)\n"
          ],
          "name": "stdout"
        }
      ]
    },
    {
      "cell_type": "code",
      "metadata": {
        "id": "tFeF6yXsqwL-",
        "colab": {
          "base_uri": "https://localhost:8080/"
        },
        "outputId": "5d35e548-628e-403a-df17-ab41f80f6ab4"
      },
      "source": [
        "# Define o estado inicial\n",
        "StartState = [[1, 2, 5], \n",
        "              [3, 4, 6], \n",
        "              [8, 7, 0]]"
      ],
      "execution_count": null,
      "outputs": [
        {
          "output_type": "stream",
          "text": [
            "time: 2.03 ms (started: 2021-08-19 20:24:55 +00:00)\n"
          ],
          "name": "stdout"
        }
      ]
    },
    {
      "cell_type": "code",
      "metadata": {
        "id": "dC7KOaaBqweX",
        "colab": {
          "base_uri": "https://localhost:8080/"
        },
        "outputId": "fd8bbdad-8802-4d3a-e421-d43dca2994fd"
      },
      "source": [
        "# Define o estado alvo\n",
        "GoalState = [[1, 2, 3], \n",
        "             [4, 5, 6], \n",
        "             [7, 8, 0]]"
      ],
      "execution_count": null,
      "outputs": [
        {
          "output_type": "stream",
          "text": [
            "time: 2.78 ms (started: 2021-08-19 20:24:55 +00:00)\n"
          ],
          "name": "stdout"
        }
      ]
    },
    {
      "cell_type": "code",
      "metadata": {
        "id": "95WU9nfIqylf",
        "colab": {
          "base_uri": "https://localhost:8080/"
        },
        "outputId": "508b539e-47f4-45e5-d3e0-860937e987d3"
      },
      "source": [
        "# Cria o grafo\n",
        "gp = Graph(N)\n",
        "\n",
        "# Cria os nós inicial e final\n",
        "Root = Node(StartState, 0, [], None)\n",
        "End = Node(GoalState, 0, [], None)"
      ],
      "execution_count": null,
      "outputs": [
        {
          "output_type": "stream",
          "text": [
            "time: 3.48 ms (started: 2021-08-19 20:24:55 +00:00)\n"
          ],
          "name": "stdout"
        }
      ]
    },
    {
      "cell_type": "code",
      "metadata": {
        "id": "q58uHne_qz0m",
        "colab": {
          "base_uri": "https://localhost:8080/"
        },
        "outputId": "c1bd340d-2d7b-4b7f-b9d3-c0ca56b19b0f"
      },
      "source": [
        "# Executa a busca em largura\n",
        "gp.Bfs(Root, End)"
      ],
      "execution_count": null,
      "outputs": [
        {
          "output_type": "execute_result",
          "data": {
            "text/plain": [
              "False"
            ]
          },
          "metadata": {},
          "execution_count": 16
        },
        {
          "output_type": "stream",
          "text": [
            "time: 10.5 s (started: 2021-08-19 20:24:55 +00:00)\n"
          ],
          "name": "stdout"
        }
      ]
    },
    {
      "cell_type": "code",
      "metadata": {
        "id": "jxyAd9pwq084",
        "colab": {
          "base_uri": "https://localhost:8080/"
        },
        "outputId": "adfae313-eb3c-4c44-9b00-df060b6215da"
      },
      "source": [
        "# Executa a busca em profundidade\n",
        "gp.Dfs(Root, End)"
      ],
      "execution_count": null,
      "outputs": [
        {
          "output_type": "execute_result",
          "data": {
            "text/plain": [
              "False"
            ]
          },
          "metadata": {},
          "execution_count": 17
        },
        {
          "output_type": "stream",
          "text": [
            "time: 9.76 s (started: 2021-08-19 20:25:06 +00:00)\n"
          ],
          "name": "stdout"
        }
      ]
    },
    {
      "cell_type": "code",
      "metadata": {
        "id": "UANWFKGvq15d",
        "colab": {
          "base_uri": "https://localhost:8080/"
        },
        "outputId": "4747183c-4b7a-4039-e628-a78d55e976e6"
      },
      "source": [
        "# Executa a busca A*\n",
        "gp.AStarAlgorithm(Root, End)"
      ],
      "execution_count": null,
      "outputs": [
        {
          "output_type": "execute_result",
          "data": {
            "text/plain": [
              "False"
            ]
          },
          "metadata": {},
          "execution_count": 18
        },
        {
          "output_type": "stream",
          "text": [
            "time: 15.2 s (started: 2021-08-19 20:25:15 +00:00)\n"
          ],
          "name": "stdout"
        }
      ]
    },
    {
      "cell_type": "markdown",
      "metadata": {
        "id": "59GEKIyDraSl"
      },
      "source": [
        "## Melhor caso"
      ]
    },
    {
      "cell_type": "code",
      "metadata": {
        "id": "6DH92jJ6rqyd",
        "colab": {
          "base_uri": "https://localhost:8080/"
        },
        "outputId": "291cadbd-a70d-4d0c-9ec9-af543f8cdc57"
      },
      "source": [
        "# Tamanho do quebra-cabeça\n",
        "N = 8"
      ],
      "execution_count": null,
      "outputs": [
        {
          "output_type": "stream",
          "text": [
            "time: 908 µs (started: 2021-08-19 20:25:55 +00:00)\n"
          ],
          "name": "stdout"
        }
      ]
    },
    {
      "cell_type": "code",
      "metadata": {
        "id": "d48Mz0kOrbK_",
        "colab": {
          "base_uri": "https://localhost:8080/"
        },
        "outputId": "84cbcad4-7f15-4141-b8c1-7303ad79aae1"
      },
      "source": [
        "# Define o estado inicial\n",
        "StartState = [[0, 3, 8], \n",
        "              [4, 1, 7], \n",
        "              [2, 6, 5]]"
      ],
      "execution_count": null,
      "outputs": [
        {
          "output_type": "stream",
          "text": [
            "time: 1.17 ms (started: 2021-08-19 20:25:58 +00:00)\n"
          ],
          "name": "stdout"
        }
      ]
    },
    {
      "cell_type": "code",
      "metadata": {
        "id": "iE7OBvUPrlC2",
        "colab": {
          "base_uri": "https://localhost:8080/"
        },
        "outputId": "5dcee653-4864-42cd-c50b-3845db04633f"
      },
      "source": [
        "# Define o estado alvo\n",
        "GoalState = [[1, 2, 3], \n",
        "             [4, 5, 6], \n",
        "             [7, 8, 0]]"
      ],
      "execution_count": null,
      "outputs": [
        {
          "output_type": "stream",
          "text": [
            "time: 2.36 ms (started: 2021-08-19 20:26:01 +00:00)\n"
          ],
          "name": "stdout"
        }
      ]
    },
    {
      "cell_type": "code",
      "metadata": {
        "id": "mKA7bdNOruCb",
        "colab": {
          "base_uri": "https://localhost:8080/"
        },
        "outputId": "7bcad681-6377-4455-f22d-a7ba4da613c1"
      },
      "source": [
        "# Cria o grafo\n",
        "gp = Graph(N)\n",
        "\n",
        "# Cria os nós inicial e final\n",
        "Root = Node(StartState, 0, [], None)\n",
        "End = Node(GoalState, 0, [], None)"
      ],
      "execution_count": null,
      "outputs": [
        {
          "output_type": "stream",
          "text": [
            "time: 534 ms (started: 2021-08-19 20:26:07 +00:00)\n"
          ],
          "name": "stdout"
        }
      ]
    },
    {
      "cell_type": "code",
      "metadata": {
        "id": "RrbUcnqCruCc",
        "colab": {
          "base_uri": "https://localhost:8080/"
        },
        "outputId": "d4e7318c-f5ab-45e8-8d95-b34a1337a4f3"
      },
      "source": [
        "# Executa a busca em largura\n",
        "gp.Bfs(Root, End)"
      ],
      "execution_count": null,
      "outputs": [
        {
          "output_type": "stream",
          "text": [
            "Nós visitados:  120793\n",
            "Profundidade :  24\n"
          ],
          "name": "stdout"
        },
        {
          "output_type": "execute_result",
          "data": {
            "text/plain": [
              "True"
            ]
          },
          "metadata": {},
          "execution_count": 23
        },
        {
          "output_type": "stream",
          "text": [
            "time: 6.62 s (started: 2021-08-19 20:26:11 +00:00)\n"
          ],
          "name": "stdout"
        }
      ]
    },
    {
      "cell_type": "code",
      "metadata": {
        "id": "nxjbCL4NruCc",
        "colab": {
          "base_uri": "https://localhost:8080/"
        },
        "outputId": "643a8a4b-491a-4367-eece-a1c16827912e"
      },
      "source": [
        "# Executa a busca em profundidade\n",
        "gp.Dfs(Root, End)"
      ],
      "execution_count": null,
      "outputs": [
        {
          "output_type": "stream",
          "text": [
            "Nós visitados:  75606\n",
            "Profundidade :  52500\n"
          ],
          "name": "stdout"
        },
        {
          "output_type": "execute_result",
          "data": {
            "text/plain": [
              "True"
            ]
          },
          "metadata": {},
          "execution_count": 24
        },
        {
          "output_type": "stream",
          "text": [
            "time: 3.23 s (started: 2021-08-19 20:26:27 +00:00)\n"
          ],
          "name": "stdout"
        }
      ]
    },
    {
      "cell_type": "code",
      "metadata": {
        "id": "CMws20mAruCc",
        "colab": {
          "base_uri": "https://localhost:8080/"
        },
        "outputId": "8f134474-817d-4d50-b79f-5cd9a2a155a1"
      },
      "source": [
        "# Executa a busca A*\n",
        "gp.AStarAlgorithm(Root, End)"
      ],
      "execution_count": null,
      "outputs": [
        {
          "output_type": "stream",
          "text": [
            "Nós visitados:  1656\n",
            "Profundidade :  24\n"
          ],
          "name": "stdout"
        },
        {
          "output_type": "execute_result",
          "data": {
            "text/plain": [
              "True"
            ]
          },
          "metadata": {},
          "execution_count": 25
        },
        {
          "output_type": "stream",
          "text": [
            "time: 192 ms (started: 2021-08-19 20:26:34 +00:00)\n"
          ],
          "name": "stdout"
        }
      ]
    },
    {
      "cell_type": "markdown",
      "metadata": {
        "id": "U8_MZNhKrbYW"
      },
      "source": [
        "## Caso solucionável (profundidade melhor que largura)"
      ]
    },
    {
      "cell_type": "code",
      "metadata": {
        "id": "CdXHQMpGryJz",
        "colab": {
          "base_uri": "https://localhost:8080/"
        },
        "outputId": "47012775-abaf-4be0-e0bd-c0e014a39c1d"
      },
      "source": [
        "# Tamanho do quebra-cabeça\n",
        "N = 8"
      ],
      "execution_count": null,
      "outputs": [
        {
          "output_type": "stream",
          "text": [
            "time: 2.38 ms (started: 2021-08-19 20:27:42 +00:00)\n"
          ],
          "name": "stdout"
        }
      ]
    },
    {
      "cell_type": "code",
      "metadata": {
        "id": "kAdg0NDlryJ0",
        "colab": {
          "base_uri": "https://localhost:8080/"
        },
        "outputId": "ed53ce94-da48-451d-a19f-040b9250105b"
      },
      "source": [
        "# Define o estado inicial\n",
        "StartState = [[3, 0, 8], \n",
        "              [4, 1, 7], \n",
        "              [2, 6, 5]]"
      ],
      "execution_count": null,
      "outputs": [
        {
          "output_type": "stream",
          "text": [
            "time: 3.18 ms (started: 2021-08-19 20:27:42 +00:00)\n"
          ],
          "name": "stdout"
        }
      ]
    },
    {
      "cell_type": "code",
      "metadata": {
        "id": "Jdbp9gXLryJ0",
        "colab": {
          "base_uri": "https://localhost:8080/"
        },
        "outputId": "ebf040b1-7c37-43fa-ca63-f7ceb630c8cf"
      },
      "source": [
        "# Define o estado alvo\n",
        "GoalState = [[1, 2, 3], \n",
        "             [4, 5, 6], \n",
        "             [7, 8, 0]]"
      ],
      "execution_count": null,
      "outputs": [
        {
          "output_type": "stream",
          "text": [
            "time: 2.17 ms (started: 2021-08-19 20:27:42 +00:00)\n"
          ],
          "name": "stdout"
        }
      ]
    },
    {
      "cell_type": "code",
      "metadata": {
        "id": "TBhQbu4vryJ0",
        "colab": {
          "base_uri": "https://localhost:8080/"
        },
        "outputId": "4517a747-4482-4d75-a42a-4e4ce47ebbb2"
      },
      "source": [
        "# Cria o grafo\n",
        "gp = Graph(N)\n",
        "\n",
        "# Cria os nós inicial e final\n",
        "Root = Node(StartState, 0, [], None)\n",
        "End = Node(GoalState, 0, [], None)"
      ],
      "execution_count": null,
      "outputs": [
        {
          "output_type": "stream",
          "text": [
            "time: 9.3 ms (started: 2021-08-19 20:27:42 +00:00)\n"
          ],
          "name": "stdout"
        }
      ]
    },
    {
      "cell_type": "code",
      "metadata": {
        "id": "LOpcLQr0ryJ0",
        "colab": {
          "base_uri": "https://localhost:8080/"
        },
        "outputId": "b79c9695-af61-48b2-bb8a-2daa8769a719"
      },
      "source": [
        "# Executa a busca em largura\n",
        "gp.Bfs(Root, End)"
      ],
      "execution_count": null,
      "outputs": [
        {
          "output_type": "stream",
          "text": [
            "Nós visitados:  142738\n",
            "Profundidade :  25\n"
          ],
          "name": "stdout"
        },
        {
          "output_type": "execute_result",
          "data": {
            "text/plain": [
              "True"
            ]
          },
          "metadata": {},
          "execution_count": 30
        },
        {
          "output_type": "stream",
          "text": [
            "time: 8.49 s (started: 2021-08-19 20:27:42 +00:00)\n"
          ],
          "name": "stdout"
        }
      ]
    },
    {
      "cell_type": "code",
      "metadata": {
        "id": "jRdxPzczryJ0",
        "colab": {
          "base_uri": "https://localhost:8080/"
        },
        "outputId": "7df0f7e9-979a-4a70-d1a5-aad0b55a35ac"
      },
      "source": [
        "# Executa a busca em profundidade\n",
        "gp.Dfs(Root, End)"
      ],
      "execution_count": null,
      "outputs": [
        {
          "output_type": "stream",
          "text": [
            "Nós visitados:  38883\n",
            "Profundidade :  27879\n"
          ],
          "name": "stdout"
        },
        {
          "output_type": "execute_result",
          "data": {
            "text/plain": [
              "True"
            ]
          },
          "metadata": {},
          "execution_count": 31
        },
        {
          "output_type": "stream",
          "text": [
            "time: 1.46 s (started: 2021-08-19 20:27:51 +00:00)\n"
          ],
          "name": "stdout"
        }
      ]
    },
    {
      "cell_type": "code",
      "metadata": {
        "id": "wu3EPm_aryJ0",
        "colab": {
          "base_uri": "https://localhost:8080/"
        },
        "outputId": "00884003-ed5b-4bf9-c6ce-c0e32d2f8f46"
      },
      "source": [
        "# Executa a busca A*\n",
        "gp.AStarAlgorithm(Root, End)"
      ],
      "execution_count": null,
      "outputs": [
        {
          "output_type": "stream",
          "text": [
            "Nós visitados:  2803\n",
            "Profundidade :  25\n"
          ],
          "name": "stdout"
        },
        {
          "output_type": "execute_result",
          "data": {
            "text/plain": [
              "True"
            ]
          },
          "metadata": {},
          "execution_count": 32
        },
        {
          "output_type": "stream",
          "text": [
            "time: 254 ms (started: 2021-08-19 20:27:52 +00:00)\n"
          ],
          "name": "stdout"
        }
      ]
    },
    {
      "cell_type": "markdown",
      "metadata": {
        "id": "8avYZXteGqD4"
      },
      "source": [
        "**Novo** **caso - Jefferson**"
      ]
    },
    {
      "cell_type": "code",
      "metadata": {
        "id": "LRSpxaxaHB95"
      },
      "source": [],
      "execution_count": null,
      "outputs": []
    }
  ]
}