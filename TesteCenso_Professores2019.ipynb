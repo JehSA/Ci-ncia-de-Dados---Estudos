{
  "nbformat": 4,
  "nbformat_minor": 0,
  "metadata": {
    "colab": {
      "provenance": []
    },
    "kernelspec": {
      "name": "python3",
      "display_name": "Python 3"
    },
    "language_info": {
      "name": "python"
    }
  },
  "cells": [
    {
      "cell_type": "code",
      "metadata": {
        "id": "U_mZ3FopWttT"
      },
      "source": [
        "#Teste Microdados Censo da Educação Superior 2019 - Tabela Alunos"
      ],
      "execution_count": null,
      "outputs": []
    },
    {
      "cell_type": "code",
      "metadata": {
        "id": "UQe8nDeaZA3m"
      },
      "source": [
        "import pandas as pd"
      ],
      "execution_count": null,
      "outputs": []
    },
    {
      "cell_type": "code",
      "metadata": {
        "id": "AO2Wdh5VYSar"
      },
      "source": [
        "import matplotlib"
      ],
      "execution_count": null,
      "outputs": []
    },
    {
      "cell_type": "code",
      "metadata": {
        "id": "jJQJQTXE0CrH"
      },
      "source": [
        "professores = pd.read_csv(\"/content/drive/MyDrive/SUP_DOCENTE_2019.CSV\", delimiter = \"|\")"
      ],
      "execution_count": null,
      "outputs": []
    },
    {
      "cell_type": "code",
      "metadata": {
        "colab": {
          "base_uri": "https://localhost:8080/"
        },
        "id": "mL2NBpW-Iz4U",
        "outputId": "326c7fd9-02f0-4d32-817d-0de9ce11718c"
      },
      "source": [
        "professores.info()"
      ],
      "execution_count": null,
      "outputs": [
        {
          "output_type": "stream",
          "text": [
            "<class 'pandas.core.frame.DataFrame'>\n",
            "RangeIndex: 399428 entries, 0 to 399427\n",
            "Data columns (total 41 columns):\n",
            " #   Column                        Non-Null Count   Dtype  \n",
            "---  ------                        --------------   -----  \n",
            " 0   NU_ANO_CENSO                  399428 non-null  int64  \n",
            " 1   CO_IES                        399428 non-null  int64  \n",
            " 2   TP_CATEGORIA_ADMINISTRATIVA   399428 non-null  int64  \n",
            " 3   TP_ORGANIZACAO_ACADEMICA      399428 non-null  int64  \n",
            " 4   CO_DOCENTE_IES                399428 non-null  int64  \n",
            " 5   ID_DOCENTE                    399428 non-null  object \n",
            " 6   TP_SITUACAO                   399428 non-null  int64  \n",
            " 7   TP_ESCOLARIDADE               399428 non-null  int64  \n",
            " 8   TP_REGIME_TRABALHO            386073 non-null  float64\n",
            " 9   TP_SEXO                       399428 non-null  int64  \n",
            " 10  NU_ANO_NASCIMENTO             399428 non-null  int64  \n",
            " 11  NU_MES_NASCIMENTO             399428 non-null  int64  \n",
            " 12  NU_DIA_NASCIMENTO             399428 non-null  int64  \n",
            " 13  NU_IDADE                      399428 non-null  int64  \n",
            " 14  TP_COR_RACA                   399428 non-null  int64  \n",
            " 15  CO_PAIS_ORIGEM                399428 non-null  int64  \n",
            " 16  TP_NACIONALIDADE              399428 non-null  int64  \n",
            " 17  CO_UF_NASCIMENTO              293785 non-null  float64\n",
            " 18  CO_MUNICIPIO_NASCIMENTO       293785 non-null  float64\n",
            " 19  IN_DEFICIENCIA                399428 non-null  int64  \n",
            " 20  IN_DEFICIENCIA_CEGUEIRA       1734 non-null    float64\n",
            " 21  IN_DEFICIENCIA_BAIXA_VISAO    1734 non-null    float64\n",
            " 22  IN_DEFICIENCIA_SURDEZ         1734 non-null    float64\n",
            " 23  IN_DEFICIENCIA_AUDITIVA       1734 non-null    float64\n",
            " 24  IN_DEFICIENCIA_FISICA         1734 non-null    float64\n",
            " 25  IN_DEFICIENCIA_SURDOCEGUEIRA  1734 non-null    float64\n",
            " 26  IN_DEFICIENCIA_MULTIPLA       1734 non-null    float64\n",
            " 27  IN_DEFICIENCIA_INTELECTUAL    1734 non-null    float64\n",
            " 28  IN_ATUACAO_EAD                386073 non-null  float64\n",
            " 29  IN_ATUACAO_EXTENSAO           386073 non-null  float64\n",
            " 30  IN_ATUACAO_GESTAO             386073 non-null  float64\n",
            " 31  IN_ATUACAO_GRAD_PRESENCIAL    386073 non-null  float64\n",
            " 32  IN_ATUACAO_POS_EAD            386073 non-null  float64\n",
            " 33  IN_ATUACAO_POS_PRESENCIAL     386073 non-null  float64\n",
            " 34  IN_ATUACAO_SEQUENCIAL         386073 non-null  float64\n",
            " 35  IN_ATUACAO_PESQUISA           386073 non-null  float64\n",
            " 36  IN_BOLSA_PESQUISA             122675 non-null  float64\n",
            " 37  IN_SUBSTITUTO                 386073 non-null  float64\n",
            " 38  IN_EXERCICIO_DATA_REFERENCIA  386073 non-null  float64\n",
            " 39  IN_VISITANTE                  386073 non-null  float64\n",
            " 40  TP_VISITANTE_IFES_VINCULO     941 non-null     float64\n",
            "dtypes: float64(24), int64(16), object(1)\n",
            "memory usage: 124.9+ MB\n"
          ],
          "name": "stdout"
        }
      ]
    },
    {
      "cell_type": "code",
      "metadata": {
        "colab": {
          "base_uri": "https://localhost:8080/",
          "height": 224
        },
        "id": "YPRfefalI2bP",
        "outputId": "7ef0d84a-9b47-4cbd-8a27-dec408fb8888"
      },
      "source": [
        "professores.head()"
      ],
      "execution_count": null,
      "outputs": [
        {
          "output_type": "execute_result",
          "data": {
            "text/html": [
              "<div>\n",
              "<style scoped>\n",
              "    .dataframe tbody tr th:only-of-type {\n",
              "        vertical-align: middle;\n",
              "    }\n",
              "\n",
              "    .dataframe tbody tr th {\n",
              "        vertical-align: top;\n",
              "    }\n",
              "\n",
              "    .dataframe thead th {\n",
              "        text-align: right;\n",
              "    }\n",
              "</style>\n",
              "<table border=\"1\" class=\"dataframe\">\n",
              "  <thead>\n",
              "    <tr style=\"text-align: right;\">\n",
              "      <th></th>\n",
              "      <th>NU_ANO_CENSO</th>\n",
              "      <th>CO_IES</th>\n",
              "      <th>TP_CATEGORIA_ADMINISTRATIVA</th>\n",
              "      <th>TP_ORGANIZACAO_ACADEMICA</th>\n",
              "      <th>CO_DOCENTE_IES</th>\n",
              "      <th>ID_DOCENTE</th>\n",
              "      <th>TP_SITUACAO</th>\n",
              "      <th>TP_ESCOLARIDADE</th>\n",
              "      <th>TP_REGIME_TRABALHO</th>\n",
              "      <th>TP_SEXO</th>\n",
              "      <th>NU_ANO_NASCIMENTO</th>\n",
              "      <th>NU_MES_NASCIMENTO</th>\n",
              "      <th>NU_DIA_NASCIMENTO</th>\n",
              "      <th>NU_IDADE</th>\n",
              "      <th>TP_COR_RACA</th>\n",
              "      <th>CO_PAIS_ORIGEM</th>\n",
              "      <th>TP_NACIONALIDADE</th>\n",
              "      <th>CO_UF_NASCIMENTO</th>\n",
              "      <th>CO_MUNICIPIO_NASCIMENTO</th>\n",
              "      <th>IN_DEFICIENCIA</th>\n",
              "      <th>IN_DEFICIENCIA_CEGUEIRA</th>\n",
              "      <th>IN_DEFICIENCIA_BAIXA_VISAO</th>\n",
              "      <th>IN_DEFICIENCIA_SURDEZ</th>\n",
              "      <th>IN_DEFICIENCIA_AUDITIVA</th>\n",
              "      <th>IN_DEFICIENCIA_FISICA</th>\n",
              "      <th>IN_DEFICIENCIA_SURDOCEGUEIRA</th>\n",
              "      <th>IN_DEFICIENCIA_MULTIPLA</th>\n",
              "      <th>IN_DEFICIENCIA_INTELECTUAL</th>\n",
              "      <th>IN_ATUACAO_EAD</th>\n",
              "      <th>IN_ATUACAO_EXTENSAO</th>\n",
              "      <th>IN_ATUACAO_GESTAO</th>\n",
              "      <th>IN_ATUACAO_GRAD_PRESENCIAL</th>\n",
              "      <th>IN_ATUACAO_POS_EAD</th>\n",
              "      <th>IN_ATUACAO_POS_PRESENCIAL</th>\n",
              "      <th>IN_ATUACAO_SEQUENCIAL</th>\n",
              "      <th>IN_ATUACAO_PESQUISA</th>\n",
              "      <th>IN_BOLSA_PESQUISA</th>\n",
              "      <th>IN_SUBSTITUTO</th>\n",
              "      <th>IN_EXERCICIO_DATA_REFERENCIA</th>\n",
              "      <th>IN_VISITANTE</th>\n",
              "      <th>TP_VISITANTE_IFES_VINCULO</th>\n",
              "    </tr>\n",
              "  </thead>\n",
              "  <tbody>\n",
              "    <tr>\n",
              "      <th>0</th>\n",
              "      <td>2019</td>\n",
              "      <td>1</td>\n",
              "      <td>1</td>\n",
              "      <td>1</td>\n",
              "      <td>1178692</td>\n",
              "      <td>EC5AA8E675AD29C50386820A3F3E9F97</td>\n",
              "      <td>1</td>\n",
              "      <td>5</td>\n",
              "      <td>1.0</td>\n",
              "      <td>2</td>\n",
              "      <td>1952</td>\n",
              "      <td>2</td>\n",
              "      <td>26</td>\n",
              "      <td>67</td>\n",
              "      <td>3</td>\n",
              "      <td>76</td>\n",
              "      <td>1</td>\n",
              "      <td>51.0</td>\n",
              "      <td>5103403.0</td>\n",
              "      <td>0</td>\n",
              "      <td>NaN</td>\n",
              "      <td>NaN</td>\n",
              "      <td>NaN</td>\n",
              "      <td>NaN</td>\n",
              "      <td>NaN</td>\n",
              "      <td>NaN</td>\n",
              "      <td>NaN</td>\n",
              "      <td>NaN</td>\n",
              "      <td>0.0</td>\n",
              "      <td>0.0</td>\n",
              "      <td>0.0</td>\n",
              "      <td>1.0</td>\n",
              "      <td>0.0</td>\n",
              "      <td>1.0</td>\n",
              "      <td>0.0</td>\n",
              "      <td>1.0</td>\n",
              "      <td>1.0</td>\n",
              "      <td>0.0</td>\n",
              "      <td>1.0</td>\n",
              "      <td>0.0</td>\n",
              "      <td>NaN</td>\n",
              "    </tr>\n",
              "    <tr>\n",
              "      <th>1</th>\n",
              "      <td>2019</td>\n",
              "      <td>1</td>\n",
              "      <td>1</td>\n",
              "      <td>1</td>\n",
              "      <td>1178691</td>\n",
              "      <td>DDA849C5C6275470F9175628F502218E</td>\n",
              "      <td>1</td>\n",
              "      <td>4</td>\n",
              "      <td>1.0</td>\n",
              "      <td>2</td>\n",
              "      <td>1969</td>\n",
              "      <td>3</td>\n",
              "      <td>11</td>\n",
              "      <td>50</td>\n",
              "      <td>3</td>\n",
              "      <td>76</td>\n",
              "      <td>1</td>\n",
              "      <td>51.0</td>\n",
              "      <td>5103403.0</td>\n",
              "      <td>0</td>\n",
              "      <td>NaN</td>\n",
              "      <td>NaN</td>\n",
              "      <td>NaN</td>\n",
              "      <td>NaN</td>\n",
              "      <td>NaN</td>\n",
              "      <td>NaN</td>\n",
              "      <td>NaN</td>\n",
              "      <td>NaN</td>\n",
              "      <td>0.0</td>\n",
              "      <td>0.0</td>\n",
              "      <td>0.0</td>\n",
              "      <td>1.0</td>\n",
              "      <td>0.0</td>\n",
              "      <td>0.0</td>\n",
              "      <td>0.0</td>\n",
              "      <td>1.0</td>\n",
              "      <td>0.0</td>\n",
              "      <td>0.0</td>\n",
              "      <td>1.0</td>\n",
              "      <td>0.0</td>\n",
              "      <td>NaN</td>\n",
              "    </tr>\n",
              "    <tr>\n",
              "      <th>2</th>\n",
              "      <td>2019</td>\n",
              "      <td>1</td>\n",
              "      <td>1</td>\n",
              "      <td>1</td>\n",
              "      <td>1178693</td>\n",
              "      <td>2FF35722D03A9C6459FB5470F17F6709</td>\n",
              "      <td>1</td>\n",
              "      <td>3</td>\n",
              "      <td>1.0</td>\n",
              "      <td>2</td>\n",
              "      <td>1955</td>\n",
              "      <td>6</td>\n",
              "      <td>16</td>\n",
              "      <td>64</td>\n",
              "      <td>4</td>\n",
              "      <td>76</td>\n",
              "      <td>1</td>\n",
              "      <td>51.0</td>\n",
              "      <td>5103403.0</td>\n",
              "      <td>0</td>\n",
              "      <td>NaN</td>\n",
              "      <td>NaN</td>\n",
              "      <td>NaN</td>\n",
              "      <td>NaN</td>\n",
              "      <td>NaN</td>\n",
              "      <td>NaN</td>\n",
              "      <td>NaN</td>\n",
              "      <td>NaN</td>\n",
              "      <td>0.0</td>\n",
              "      <td>1.0</td>\n",
              "      <td>1.0</td>\n",
              "      <td>1.0</td>\n",
              "      <td>0.0</td>\n",
              "      <td>0.0</td>\n",
              "      <td>0.0</td>\n",
              "      <td>1.0</td>\n",
              "      <td>0.0</td>\n",
              "      <td>0.0</td>\n",
              "      <td>1.0</td>\n",
              "      <td>0.0</td>\n",
              "      <td>NaN</td>\n",
              "    </tr>\n",
              "    <tr>\n",
              "      <th>3</th>\n",
              "      <td>2019</td>\n",
              "      <td>1</td>\n",
              "      <td>1</td>\n",
              "      <td>1</td>\n",
              "      <td>1180431</td>\n",
              "      <td>C5AB8500E4EC686BFFF71870108EA10A</td>\n",
              "      <td>1</td>\n",
              "      <td>5</td>\n",
              "      <td>1.0</td>\n",
              "      <td>2</td>\n",
              "      <td>1965</td>\n",
              "      <td>8</td>\n",
              "      <td>29</td>\n",
              "      <td>54</td>\n",
              "      <td>1</td>\n",
              "      <td>76</td>\n",
              "      <td>1</td>\n",
              "      <td>51.0</td>\n",
              "      <td>5103403.0</td>\n",
              "      <td>0</td>\n",
              "      <td>NaN</td>\n",
              "      <td>NaN</td>\n",
              "      <td>NaN</td>\n",
              "      <td>NaN</td>\n",
              "      <td>NaN</td>\n",
              "      <td>NaN</td>\n",
              "      <td>NaN</td>\n",
              "      <td>NaN</td>\n",
              "      <td>0.0</td>\n",
              "      <td>1.0</td>\n",
              "      <td>0.0</td>\n",
              "      <td>1.0</td>\n",
              "      <td>0.0</td>\n",
              "      <td>0.0</td>\n",
              "      <td>0.0</td>\n",
              "      <td>0.0</td>\n",
              "      <td>NaN</td>\n",
              "      <td>0.0</td>\n",
              "      <td>1.0</td>\n",
              "      <td>0.0</td>\n",
              "      <td>NaN</td>\n",
              "    </tr>\n",
              "    <tr>\n",
              "      <th>4</th>\n",
              "      <td>2019</td>\n",
              "      <td>1</td>\n",
              "      <td>1</td>\n",
              "      <td>1</td>\n",
              "      <td>1178686</td>\n",
              "      <td>60FD7BF0222B1B16D19D9E4E08D4178A</td>\n",
              "      <td>1</td>\n",
              "      <td>5</td>\n",
              "      <td>1.0</td>\n",
              "      <td>2</td>\n",
              "      <td>1957</td>\n",
              "      <td>5</td>\n",
              "      <td>27</td>\n",
              "      <td>62</td>\n",
              "      <td>1</td>\n",
              "      <td>76</td>\n",
              "      <td>1</td>\n",
              "      <td>51.0</td>\n",
              "      <td>5103403.0</td>\n",
              "      <td>0</td>\n",
              "      <td>NaN</td>\n",
              "      <td>NaN</td>\n",
              "      <td>NaN</td>\n",
              "      <td>NaN</td>\n",
              "      <td>NaN</td>\n",
              "      <td>NaN</td>\n",
              "      <td>NaN</td>\n",
              "      <td>NaN</td>\n",
              "      <td>0.0</td>\n",
              "      <td>0.0</td>\n",
              "      <td>0.0</td>\n",
              "      <td>0.0</td>\n",
              "      <td>0.0</td>\n",
              "      <td>0.0</td>\n",
              "      <td>0.0</td>\n",
              "      <td>1.0</td>\n",
              "      <td>0.0</td>\n",
              "      <td>0.0</td>\n",
              "      <td>0.0</td>\n",
              "      <td>0.0</td>\n",
              "      <td>NaN</td>\n",
              "    </tr>\n",
              "  </tbody>\n",
              "</table>\n",
              "</div>"
            ],
            "text/plain": [
              "   NU_ANO_CENSO  CO_IES  ...  IN_VISITANTE  TP_VISITANTE_IFES_VINCULO\n",
              "0          2019       1  ...           0.0                        NaN\n",
              "1          2019       1  ...           0.0                        NaN\n",
              "2          2019       1  ...           0.0                        NaN\n",
              "3          2019       1  ...           0.0                        NaN\n",
              "4          2019       1  ...           0.0                        NaN\n",
              "\n",
              "[5 rows x 41 columns]"
            ]
          },
          "metadata": {
            "tags": []
          },
          "execution_count": 3
        }
      ]
    },
    {
      "cell_type": "code",
      "metadata": {
        "colab": {
          "base_uri": "https://localhost:8080/"
        },
        "id": "OxP-8g3eJEvz",
        "outputId": "c4de2476-d91f-4232-acc5-a1dd22368508"
      },
      "source": [
        "professores.shape"
      ],
      "execution_count": null,
      "outputs": [
        {
          "output_type": "execute_result",
          "data": {
            "text/plain": [
              "(399428, 41)"
            ]
          },
          "metadata": {
            "tags": []
          },
          "execution_count": 8
        }
      ]
    },
    {
      "cell_type": "code",
      "metadata": {
        "colab": {
          "base_uri": "https://localhost:8080/",
          "height": 439
        },
        "id": "uWa68mL-JbYt",
        "outputId": "311beb74-9002-463a-eacf-4ca72abda010"
      },
      "source": [
        "professores"
      ],
      "execution_count": null,
      "outputs": [
        {
          "output_type": "execute_result",
          "data": {
            "text/html": [
              "<div>\n",
              "<style scoped>\n",
              "    .dataframe tbody tr th:only-of-type {\n",
              "        vertical-align: middle;\n",
              "    }\n",
              "\n",
              "    .dataframe tbody tr th {\n",
              "        vertical-align: top;\n",
              "    }\n",
              "\n",
              "    .dataframe thead th {\n",
              "        text-align: right;\n",
              "    }\n",
              "</style>\n",
              "<table border=\"1\" class=\"dataframe\">\n",
              "  <thead>\n",
              "    <tr style=\"text-align: right;\">\n",
              "      <th></th>\n",
              "      <th>NU_ANO_CENSO</th>\n",
              "      <th>CO_IES</th>\n",
              "      <th>TP_CATEGORIA_ADMINISTRATIVA</th>\n",
              "      <th>TP_ORGANIZACAO_ACADEMICA</th>\n",
              "      <th>CO_DOCENTE_IES</th>\n",
              "      <th>ID_DOCENTE</th>\n",
              "      <th>TP_SITUACAO</th>\n",
              "      <th>TP_ESCOLARIDADE</th>\n",
              "      <th>TP_REGIME_TRABALHO</th>\n",
              "      <th>TP_SEXO</th>\n",
              "      <th>NU_ANO_NASCIMENTO</th>\n",
              "      <th>NU_MES_NASCIMENTO</th>\n",
              "      <th>NU_DIA_NASCIMENTO</th>\n",
              "      <th>NU_IDADE</th>\n",
              "      <th>TP_COR_RACA</th>\n",
              "      <th>CO_PAIS_ORIGEM</th>\n",
              "      <th>TP_NACIONALIDADE</th>\n",
              "      <th>CO_UF_NASCIMENTO</th>\n",
              "      <th>CO_MUNICIPIO_NASCIMENTO</th>\n",
              "      <th>IN_DEFICIENCIA</th>\n",
              "      <th>IN_DEFICIENCIA_CEGUEIRA</th>\n",
              "      <th>IN_DEFICIENCIA_BAIXA_VISAO</th>\n",
              "      <th>IN_DEFICIENCIA_SURDEZ</th>\n",
              "      <th>IN_DEFICIENCIA_AUDITIVA</th>\n",
              "      <th>IN_DEFICIENCIA_FISICA</th>\n",
              "      <th>IN_DEFICIENCIA_SURDOCEGUEIRA</th>\n",
              "      <th>IN_DEFICIENCIA_MULTIPLA</th>\n",
              "      <th>IN_DEFICIENCIA_INTELECTUAL</th>\n",
              "      <th>IN_ATUACAO_EAD</th>\n",
              "      <th>IN_ATUACAO_EXTENSAO</th>\n",
              "      <th>IN_ATUACAO_GESTAO</th>\n",
              "      <th>IN_ATUACAO_GRAD_PRESENCIAL</th>\n",
              "      <th>IN_ATUACAO_POS_EAD</th>\n",
              "      <th>IN_ATUACAO_POS_PRESENCIAL</th>\n",
              "      <th>IN_ATUACAO_SEQUENCIAL</th>\n",
              "      <th>IN_ATUACAO_PESQUISA</th>\n",
              "      <th>IN_BOLSA_PESQUISA</th>\n",
              "      <th>IN_SUBSTITUTO</th>\n",
              "      <th>IN_EXERCICIO_DATA_REFERENCIA</th>\n",
              "      <th>IN_VISITANTE</th>\n",
              "      <th>TP_VISITANTE_IFES_VINCULO</th>\n",
              "    </tr>\n",
              "  </thead>\n",
              "  <tbody>\n",
              "    <tr>\n",
              "      <th>0</th>\n",
              "      <td>2019</td>\n",
              "      <td>1</td>\n",
              "      <td>1</td>\n",
              "      <td>1</td>\n",
              "      <td>1178692</td>\n",
              "      <td>EC5AA8E675AD29C50386820A3F3E9F97</td>\n",
              "      <td>1</td>\n",
              "      <td>5</td>\n",
              "      <td>1.0</td>\n",
              "      <td>2</td>\n",
              "      <td>1952</td>\n",
              "      <td>2</td>\n",
              "      <td>26</td>\n",
              "      <td>67</td>\n",
              "      <td>3</td>\n",
              "      <td>76</td>\n",
              "      <td>1</td>\n",
              "      <td>51.0</td>\n",
              "      <td>5103403.0</td>\n",
              "      <td>0</td>\n",
              "      <td>NaN</td>\n",
              "      <td>NaN</td>\n",
              "      <td>NaN</td>\n",
              "      <td>NaN</td>\n",
              "      <td>NaN</td>\n",
              "      <td>NaN</td>\n",
              "      <td>NaN</td>\n",
              "      <td>NaN</td>\n",
              "      <td>0.0</td>\n",
              "      <td>0.0</td>\n",
              "      <td>0.0</td>\n",
              "      <td>1.0</td>\n",
              "      <td>0.0</td>\n",
              "      <td>1.0</td>\n",
              "      <td>0.0</td>\n",
              "      <td>1.0</td>\n",
              "      <td>1.0</td>\n",
              "      <td>0.0</td>\n",
              "      <td>1.0</td>\n",
              "      <td>0.0</td>\n",
              "      <td>NaN</td>\n",
              "    </tr>\n",
              "    <tr>\n",
              "      <th>1</th>\n",
              "      <td>2019</td>\n",
              "      <td>1</td>\n",
              "      <td>1</td>\n",
              "      <td>1</td>\n",
              "      <td>1178691</td>\n",
              "      <td>DDA849C5C6275470F9175628F502218E</td>\n",
              "      <td>1</td>\n",
              "      <td>4</td>\n",
              "      <td>1.0</td>\n",
              "      <td>2</td>\n",
              "      <td>1969</td>\n",
              "      <td>3</td>\n",
              "      <td>11</td>\n",
              "      <td>50</td>\n",
              "      <td>3</td>\n",
              "      <td>76</td>\n",
              "      <td>1</td>\n",
              "      <td>51.0</td>\n",
              "      <td>5103403.0</td>\n",
              "      <td>0</td>\n",
              "      <td>NaN</td>\n",
              "      <td>NaN</td>\n",
              "      <td>NaN</td>\n",
              "      <td>NaN</td>\n",
              "      <td>NaN</td>\n",
              "      <td>NaN</td>\n",
              "      <td>NaN</td>\n",
              "      <td>NaN</td>\n",
              "      <td>0.0</td>\n",
              "      <td>0.0</td>\n",
              "      <td>0.0</td>\n",
              "      <td>1.0</td>\n",
              "      <td>0.0</td>\n",
              "      <td>0.0</td>\n",
              "      <td>0.0</td>\n",
              "      <td>1.0</td>\n",
              "      <td>0.0</td>\n",
              "      <td>0.0</td>\n",
              "      <td>1.0</td>\n",
              "      <td>0.0</td>\n",
              "      <td>NaN</td>\n",
              "    </tr>\n",
              "    <tr>\n",
              "      <th>2</th>\n",
              "      <td>2019</td>\n",
              "      <td>1</td>\n",
              "      <td>1</td>\n",
              "      <td>1</td>\n",
              "      <td>1178693</td>\n",
              "      <td>2FF35722D03A9C6459FB5470F17F6709</td>\n",
              "      <td>1</td>\n",
              "      <td>3</td>\n",
              "      <td>1.0</td>\n",
              "      <td>2</td>\n",
              "      <td>1955</td>\n",
              "      <td>6</td>\n",
              "      <td>16</td>\n",
              "      <td>64</td>\n",
              "      <td>4</td>\n",
              "      <td>76</td>\n",
              "      <td>1</td>\n",
              "      <td>51.0</td>\n",
              "      <td>5103403.0</td>\n",
              "      <td>0</td>\n",
              "      <td>NaN</td>\n",
              "      <td>NaN</td>\n",
              "      <td>NaN</td>\n",
              "      <td>NaN</td>\n",
              "      <td>NaN</td>\n",
              "      <td>NaN</td>\n",
              "      <td>NaN</td>\n",
              "      <td>NaN</td>\n",
              "      <td>0.0</td>\n",
              "      <td>1.0</td>\n",
              "      <td>1.0</td>\n",
              "      <td>1.0</td>\n",
              "      <td>0.0</td>\n",
              "      <td>0.0</td>\n",
              "      <td>0.0</td>\n",
              "      <td>1.0</td>\n",
              "      <td>0.0</td>\n",
              "      <td>0.0</td>\n",
              "      <td>1.0</td>\n",
              "      <td>0.0</td>\n",
              "      <td>NaN</td>\n",
              "    </tr>\n",
              "    <tr>\n",
              "      <th>3</th>\n",
              "      <td>2019</td>\n",
              "      <td>1</td>\n",
              "      <td>1</td>\n",
              "      <td>1</td>\n",
              "      <td>1180431</td>\n",
              "      <td>C5AB8500E4EC686BFFF71870108EA10A</td>\n",
              "      <td>1</td>\n",
              "      <td>5</td>\n",
              "      <td>1.0</td>\n",
              "      <td>2</td>\n",
              "      <td>1965</td>\n",
              "      <td>8</td>\n",
              "      <td>29</td>\n",
              "      <td>54</td>\n",
              "      <td>1</td>\n",
              "      <td>76</td>\n",
              "      <td>1</td>\n",
              "      <td>51.0</td>\n",
              "      <td>5103403.0</td>\n",
              "      <td>0</td>\n",
              "      <td>NaN</td>\n",
              "      <td>NaN</td>\n",
              "      <td>NaN</td>\n",
              "      <td>NaN</td>\n",
              "      <td>NaN</td>\n",
              "      <td>NaN</td>\n",
              "      <td>NaN</td>\n",
              "      <td>NaN</td>\n",
              "      <td>0.0</td>\n",
              "      <td>1.0</td>\n",
              "      <td>0.0</td>\n",
              "      <td>1.0</td>\n",
              "      <td>0.0</td>\n",
              "      <td>0.0</td>\n",
              "      <td>0.0</td>\n",
              "      <td>0.0</td>\n",
              "      <td>NaN</td>\n",
              "      <td>0.0</td>\n",
              "      <td>1.0</td>\n",
              "      <td>0.0</td>\n",
              "      <td>NaN</td>\n",
              "    </tr>\n",
              "    <tr>\n",
              "      <th>4</th>\n",
              "      <td>2019</td>\n",
              "      <td>1</td>\n",
              "      <td>1</td>\n",
              "      <td>1</td>\n",
              "      <td>1178686</td>\n",
              "      <td>60FD7BF0222B1B16D19D9E4E08D4178A</td>\n",
              "      <td>1</td>\n",
              "      <td>5</td>\n",
              "      <td>1.0</td>\n",
              "      <td>2</td>\n",
              "      <td>1957</td>\n",
              "      <td>5</td>\n",
              "      <td>27</td>\n",
              "      <td>62</td>\n",
              "      <td>1</td>\n",
              "      <td>76</td>\n",
              "      <td>1</td>\n",
              "      <td>51.0</td>\n",
              "      <td>5103403.0</td>\n",
              "      <td>0</td>\n",
              "      <td>NaN</td>\n",
              "      <td>NaN</td>\n",
              "      <td>NaN</td>\n",
              "      <td>NaN</td>\n",
              "      <td>NaN</td>\n",
              "      <td>NaN</td>\n",
              "      <td>NaN</td>\n",
              "      <td>NaN</td>\n",
              "      <td>0.0</td>\n",
              "      <td>0.0</td>\n",
              "      <td>0.0</td>\n",
              "      <td>0.0</td>\n",
              "      <td>0.0</td>\n",
              "      <td>0.0</td>\n",
              "      <td>0.0</td>\n",
              "      <td>1.0</td>\n",
              "      <td>0.0</td>\n",
              "      <td>0.0</td>\n",
              "      <td>0.0</td>\n",
              "      <td>0.0</td>\n",
              "      <td>NaN</td>\n",
              "    </tr>\n",
              "    <tr>\n",
              "      <th>...</th>\n",
              "      <td>...</td>\n",
              "      <td>...</td>\n",
              "      <td>...</td>\n",
              "      <td>...</td>\n",
              "      <td>...</td>\n",
              "      <td>...</td>\n",
              "      <td>...</td>\n",
              "      <td>...</td>\n",
              "      <td>...</td>\n",
              "      <td>...</td>\n",
              "      <td>...</td>\n",
              "      <td>...</td>\n",
              "      <td>...</td>\n",
              "      <td>...</td>\n",
              "      <td>...</td>\n",
              "      <td>...</td>\n",
              "      <td>...</td>\n",
              "      <td>...</td>\n",
              "      <td>...</td>\n",
              "      <td>...</td>\n",
              "      <td>...</td>\n",
              "      <td>...</td>\n",
              "      <td>...</td>\n",
              "      <td>...</td>\n",
              "      <td>...</td>\n",
              "      <td>...</td>\n",
              "      <td>...</td>\n",
              "      <td>...</td>\n",
              "      <td>...</td>\n",
              "      <td>...</td>\n",
              "      <td>...</td>\n",
              "      <td>...</td>\n",
              "      <td>...</td>\n",
              "      <td>...</td>\n",
              "      <td>...</td>\n",
              "      <td>...</td>\n",
              "      <td>...</td>\n",
              "      <td>...</td>\n",
              "      <td>...</td>\n",
              "      <td>...</td>\n",
              "      <td>...</td>\n",
              "    </tr>\n",
              "    <tr>\n",
              "      <th>399423</th>\n",
              "      <td>2019</td>\n",
              "      <td>24672</td>\n",
              "      <td>2</td>\n",
              "      <td>3</td>\n",
              "      <td>735565</td>\n",
              "      <td>5C88FFC5B4004508FE30AB9EC778F0EC</td>\n",
              "      <td>1</td>\n",
              "      <td>4</td>\n",
              "      <td>4.0</td>\n",
              "      <td>2</td>\n",
              "      <td>1979</td>\n",
              "      <td>12</td>\n",
              "      <td>13</td>\n",
              "      <td>40</td>\n",
              "      <td>1</td>\n",
              "      <td>76</td>\n",
              "      <td>1</td>\n",
              "      <td>35.0</td>\n",
              "      <td>3529302.0</td>\n",
              "      <td>0</td>\n",
              "      <td>NaN</td>\n",
              "      <td>NaN</td>\n",
              "      <td>NaN</td>\n",
              "      <td>NaN</td>\n",
              "      <td>NaN</td>\n",
              "      <td>NaN</td>\n",
              "      <td>NaN</td>\n",
              "      <td>NaN</td>\n",
              "      <td>0.0</td>\n",
              "      <td>0.0</td>\n",
              "      <td>0.0</td>\n",
              "      <td>1.0</td>\n",
              "      <td>0.0</td>\n",
              "      <td>0.0</td>\n",
              "      <td>0.0</td>\n",
              "      <td>0.0</td>\n",
              "      <td>NaN</td>\n",
              "      <td>0.0</td>\n",
              "      <td>1.0</td>\n",
              "      <td>0.0</td>\n",
              "      <td>NaN</td>\n",
              "    </tr>\n",
              "    <tr>\n",
              "      <th>399424</th>\n",
              "      <td>2019</td>\n",
              "      <td>24672</td>\n",
              "      <td>2</td>\n",
              "      <td>3</td>\n",
              "      <td>735555</td>\n",
              "      <td>DA713FD77BC89C90A1DF01529F6DCEA1</td>\n",
              "      <td>1</td>\n",
              "      <td>4</td>\n",
              "      <td>4.0</td>\n",
              "      <td>1</td>\n",
              "      <td>1978</td>\n",
              "      <td>4</td>\n",
              "      <td>21</td>\n",
              "      <td>41</td>\n",
              "      <td>1</td>\n",
              "      <td>76</td>\n",
              "      <td>1</td>\n",
              "      <td>35.0</td>\n",
              "      <td>3550308.0</td>\n",
              "      <td>0</td>\n",
              "      <td>NaN</td>\n",
              "      <td>NaN</td>\n",
              "      <td>NaN</td>\n",
              "      <td>NaN</td>\n",
              "      <td>NaN</td>\n",
              "      <td>NaN</td>\n",
              "      <td>NaN</td>\n",
              "      <td>NaN</td>\n",
              "      <td>0.0</td>\n",
              "      <td>0.0</td>\n",
              "      <td>0.0</td>\n",
              "      <td>1.0</td>\n",
              "      <td>0.0</td>\n",
              "      <td>0.0</td>\n",
              "      <td>0.0</td>\n",
              "      <td>0.0</td>\n",
              "      <td>NaN</td>\n",
              "      <td>0.0</td>\n",
              "      <td>1.0</td>\n",
              "      <td>0.0</td>\n",
              "      <td>NaN</td>\n",
              "    </tr>\n",
              "    <tr>\n",
              "      <th>399425</th>\n",
              "      <td>2019</td>\n",
              "      <td>24672</td>\n",
              "      <td>2</td>\n",
              "      <td>3</td>\n",
              "      <td>735482</td>\n",
              "      <td>792D01A8C0F3BE2C0A2381A46F278C46</td>\n",
              "      <td>1</td>\n",
              "      <td>4</td>\n",
              "      <td>4.0</td>\n",
              "      <td>2</td>\n",
              "      <td>1966</td>\n",
              "      <td>1</td>\n",
              "      <td>16</td>\n",
              "      <td>53</td>\n",
              "      <td>1</td>\n",
              "      <td>76</td>\n",
              "      <td>1</td>\n",
              "      <td>35.0</td>\n",
              "      <td>3502804.0</td>\n",
              "      <td>0</td>\n",
              "      <td>NaN</td>\n",
              "      <td>NaN</td>\n",
              "      <td>NaN</td>\n",
              "      <td>NaN</td>\n",
              "      <td>NaN</td>\n",
              "      <td>NaN</td>\n",
              "      <td>NaN</td>\n",
              "      <td>NaN</td>\n",
              "      <td>0.0</td>\n",
              "      <td>0.0</td>\n",
              "      <td>0.0</td>\n",
              "      <td>1.0</td>\n",
              "      <td>0.0</td>\n",
              "      <td>0.0</td>\n",
              "      <td>0.0</td>\n",
              "      <td>0.0</td>\n",
              "      <td>NaN</td>\n",
              "      <td>0.0</td>\n",
              "      <td>1.0</td>\n",
              "      <td>0.0</td>\n",
              "      <td>NaN</td>\n",
              "    </tr>\n",
              "    <tr>\n",
              "      <th>399426</th>\n",
              "      <td>2019</td>\n",
              "      <td>24672</td>\n",
              "      <td>2</td>\n",
              "      <td>3</td>\n",
              "      <td>735621</td>\n",
              "      <td>0D2271F0EBAF360F3E0A4ED29431AE09</td>\n",
              "      <td>1</td>\n",
              "      <td>4</td>\n",
              "      <td>4.0</td>\n",
              "      <td>2</td>\n",
              "      <td>1979</td>\n",
              "      <td>7</td>\n",
              "      <td>29</td>\n",
              "      <td>40</td>\n",
              "      <td>1</td>\n",
              "      <td>76</td>\n",
              "      <td>1</td>\n",
              "      <td>35.0</td>\n",
              "      <td>3503208.0</td>\n",
              "      <td>0</td>\n",
              "      <td>NaN</td>\n",
              "      <td>NaN</td>\n",
              "      <td>NaN</td>\n",
              "      <td>NaN</td>\n",
              "      <td>NaN</td>\n",
              "      <td>NaN</td>\n",
              "      <td>NaN</td>\n",
              "      <td>NaN</td>\n",
              "      <td>0.0</td>\n",
              "      <td>0.0</td>\n",
              "      <td>0.0</td>\n",
              "      <td>1.0</td>\n",
              "      <td>0.0</td>\n",
              "      <td>0.0</td>\n",
              "      <td>0.0</td>\n",
              "      <td>0.0</td>\n",
              "      <td>NaN</td>\n",
              "      <td>0.0</td>\n",
              "      <td>1.0</td>\n",
              "      <td>0.0</td>\n",
              "      <td>NaN</td>\n",
              "    </tr>\n",
              "    <tr>\n",
              "      <th>399427</th>\n",
              "      <td>2019</td>\n",
              "      <td>24672</td>\n",
              "      <td>2</td>\n",
              "      <td>3</td>\n",
              "      <td>735622</td>\n",
              "      <td>D224A5024FD352AE913A320F403B6C22</td>\n",
              "      <td>1</td>\n",
              "      <td>4</td>\n",
              "      <td>4.0</td>\n",
              "      <td>2</td>\n",
              "      <td>1978</td>\n",
              "      <td>9</td>\n",
              "      <td>14</td>\n",
              "      <td>41</td>\n",
              "      <td>1</td>\n",
              "      <td>76</td>\n",
              "      <td>1</td>\n",
              "      <td>35.0</td>\n",
              "      <td>3531308.0</td>\n",
              "      <td>9</td>\n",
              "      <td>NaN</td>\n",
              "      <td>NaN</td>\n",
              "      <td>NaN</td>\n",
              "      <td>NaN</td>\n",
              "      <td>NaN</td>\n",
              "      <td>NaN</td>\n",
              "      <td>NaN</td>\n",
              "      <td>NaN</td>\n",
              "      <td>0.0</td>\n",
              "      <td>0.0</td>\n",
              "      <td>0.0</td>\n",
              "      <td>1.0</td>\n",
              "      <td>0.0</td>\n",
              "      <td>0.0</td>\n",
              "      <td>0.0</td>\n",
              "      <td>0.0</td>\n",
              "      <td>NaN</td>\n",
              "      <td>0.0</td>\n",
              "      <td>1.0</td>\n",
              "      <td>0.0</td>\n",
              "      <td>NaN</td>\n",
              "    </tr>\n",
              "  </tbody>\n",
              "</table>\n",
              "<p>399428 rows × 41 columns</p>\n",
              "</div>"
            ],
            "text/plain": [
              "        NU_ANO_CENSO  CO_IES  ...  IN_VISITANTE  TP_VISITANTE_IFES_VINCULO\n",
              "0               2019       1  ...           0.0                        NaN\n",
              "1               2019       1  ...           0.0                        NaN\n",
              "2               2019       1  ...           0.0                        NaN\n",
              "3               2019       1  ...           0.0                        NaN\n",
              "4               2019       1  ...           0.0                        NaN\n",
              "...              ...     ...  ...           ...                        ...\n",
              "399423          2019   24672  ...           0.0                        NaN\n",
              "399424          2019   24672  ...           0.0                        NaN\n",
              "399425          2019   24672  ...           0.0                        NaN\n",
              "399426          2019   24672  ...           0.0                        NaN\n",
              "399427          2019   24672  ...           0.0                        NaN\n",
              "\n",
              "[399428 rows x 41 columns]"
            ]
          },
          "metadata": {
            "tags": []
          },
          "execution_count": 4
        }
      ]
    },
    {
      "cell_type": "code",
      "metadata": {
        "colab": {
          "base_uri": "https://localhost:8080/"
        },
        "id": "U1jeCdXSJnPA",
        "outputId": "fd57c4f0-9d95-4728-84bd-5f27da15bec2"
      },
      "source": [
        "\n",
        "alunos = pd.read_csv(\"/content/drive/MyDrive/SUP_ALUNO_2019.CSV\", delimiter = \"|\")"
      ],
      "execution_count": null,
      "outputs": [
        {
          "output_type": "stream",
          "text": [
            "/usr/local/lib/python3.7/dist-packages/IPython/core/interactiveshell.py:2718: DtypeWarning: Columns (10) have mixed types.Specify dtype option on import or set low_memory=False.\n",
            "  interactivity=interactivity, compiler=compiler, result=result)\n"
          ],
          "name": "stderr"
        }
      ]
    },
    {
      "cell_type": "markdown",
      "metadata": {
        "id": "Q5g282ZDK-CQ"
      },
      "source": [
        "Não consigo abrir a tabela de alunos nem pelo colab..."
      ]
    },
    {
      "cell_type": "code",
      "metadata": {
        "id": "peB7Sh4kLF1G",
        "colab": {
          "base_uri": "https://localhost:8080/"
        },
        "outputId": "f4cc2de2-36c3-4f39-8e90-809a225875be"
      },
      "source": [
        "professores.columns.values"
      ],
      "execution_count": null,
      "outputs": [
        {
          "output_type": "execute_result",
          "data": {
            "text/plain": [
              "array(['NU_ANO_CENSO', 'CO_IES', 'TP_CATEGORIA_ADMINISTRATIVA',\n",
              "       'TP_ORGANIZACAO_ACADEMICA', 'CO_DOCENTE_IES', 'ID_DOCENTE',\n",
              "       'TP_SITUACAO', 'TP_ESCOLARIDADE', 'TP_REGIME_TRABALHO', 'TP_SEXO',\n",
              "       'NU_ANO_NASCIMENTO', 'NU_MES_NASCIMENTO', 'NU_DIA_NASCIMENTO',\n",
              "       'NU_IDADE', 'TP_COR_RACA', 'CO_PAIS_ORIGEM', 'TP_NACIONALIDADE',\n",
              "       'CO_UF_NASCIMENTO', 'CO_MUNICIPIO_NASCIMENTO', 'IN_DEFICIENCIA',\n",
              "       'IN_DEFICIENCIA_CEGUEIRA', 'IN_DEFICIENCIA_BAIXA_VISAO',\n",
              "       'IN_DEFICIENCIA_SURDEZ', 'IN_DEFICIENCIA_AUDITIVA',\n",
              "       'IN_DEFICIENCIA_FISICA', 'IN_DEFICIENCIA_SURDOCEGUEIRA',\n",
              "       'IN_DEFICIENCIA_MULTIPLA', 'IN_DEFICIENCIA_INTELECTUAL',\n",
              "       'IN_ATUACAO_EAD', 'IN_ATUACAO_EXTENSAO', 'IN_ATUACAO_GESTAO',\n",
              "       'IN_ATUACAO_GRAD_PRESENCIAL', 'IN_ATUACAO_POS_EAD',\n",
              "       'IN_ATUACAO_POS_PRESENCIAL', 'IN_ATUACAO_SEQUENCIAL',\n",
              "       'IN_ATUACAO_PESQUISA', 'IN_BOLSA_PESQUISA', 'IN_SUBSTITUTO',\n",
              "       'IN_EXERCICIO_DATA_REFERENCIA', 'IN_VISITANTE',\n",
              "       'TP_VISITANTE_IFES_VINCULO'], dtype=object)"
            ]
          },
          "metadata": {
            "tags": []
          },
          "execution_count": 3
        }
      ]
    },
    {
      "cell_type": "code",
      "metadata": {
        "id": "C2NA8ROeSAjI"
      },
      "source": [
        "colunasProfessores2019 = ['NU_ANO_CENSO', 'CO_IES', 'TP_CATEGORIA_ADMINISTRATIVA',\n",
        "       'TP_ORGANIZACAO_ACADEMICA', 'TP_SITUACAO', 'TP_ESCOLARIDADE', 'TP_REGIME_TRABALHO', 'TP_SEXO',\n",
        "       'NU_IDADE', 'TP_COR_RACA', 'IN_ATUACAO_EAD', 'IN_ATUACAO_EXTENSAO', 'IN_ATUACAO_GESTAO',\n",
        "       'IN_ATUACAO_GRAD_PRESENCIAL', 'IN_ATUACAO_POS_EAD',\n",
        "       'IN_ATUACAO_POS_PRESENCIAL', 'IN_ATUACAO_SEQUENCIAL',\n",
        "       'IN_ATUACAO_PESQUISA', 'IN_BOLSA_PESQUISA', 'IN_SUBSTITUTO', 'IN_VISITANTE',\n",
        "       'TP_VISITANTE_IFES_VINCULO']"
      ],
      "execution_count": null,
      "outputs": []
    },
    {
      "cell_type": "code",
      "metadata": {
        "id": "IKE7V2psTSAY"
      },
      "source": [
        "professoresSelecionados = professores.filter(items=colunasProfessores2019)"
      ],
      "execution_count": null,
      "outputs": []
    },
    {
      "cell_type": "code",
      "metadata": {
        "colab": {
          "base_uri": "https://localhost:8080/",
          "height": 224
        },
        "id": "7NgrJXuRTzJy",
        "outputId": "7957109f-7181-4247-fb41-8dd94991d03d"
      },
      "source": [
        "professoresSelecionados.head()"
      ],
      "execution_count": null,
      "outputs": [
        {
          "output_type": "execute_result",
          "data": {
            "text/html": [
              "<div>\n",
              "<style scoped>\n",
              "    .dataframe tbody tr th:only-of-type {\n",
              "        vertical-align: middle;\n",
              "    }\n",
              "\n",
              "    .dataframe tbody tr th {\n",
              "        vertical-align: top;\n",
              "    }\n",
              "\n",
              "    .dataframe thead th {\n",
              "        text-align: right;\n",
              "    }\n",
              "</style>\n",
              "<table border=\"1\" class=\"dataframe\">\n",
              "  <thead>\n",
              "    <tr style=\"text-align: right;\">\n",
              "      <th></th>\n",
              "      <th>NU_ANO_CENSO</th>\n",
              "      <th>CO_IES</th>\n",
              "      <th>TP_CATEGORIA_ADMINISTRATIVA</th>\n",
              "      <th>TP_ORGANIZACAO_ACADEMICA</th>\n",
              "      <th>TP_SITUACAO</th>\n",
              "      <th>TP_ESCOLARIDADE</th>\n",
              "      <th>TP_REGIME_TRABALHO</th>\n",
              "      <th>TP_SEXO</th>\n",
              "      <th>NU_IDADE</th>\n",
              "      <th>TP_COR_RACA</th>\n",
              "      <th>IN_ATUACAO_EAD</th>\n",
              "      <th>IN_ATUACAO_EXTENSAO</th>\n",
              "      <th>IN_ATUACAO_GESTAO</th>\n",
              "      <th>IN_ATUACAO_GRAD_PRESENCIAL</th>\n",
              "      <th>IN_ATUACAO_POS_EAD</th>\n",
              "      <th>IN_ATUACAO_POS_PRESENCIAL</th>\n",
              "      <th>IN_ATUACAO_SEQUENCIAL</th>\n",
              "      <th>IN_ATUACAO_PESQUISA</th>\n",
              "      <th>IN_BOLSA_PESQUISA</th>\n",
              "      <th>IN_SUBSTITUTO</th>\n",
              "      <th>IN_VISITANTE</th>\n",
              "      <th>TP_VISITANTE_IFES_VINCULO</th>\n",
              "    </tr>\n",
              "  </thead>\n",
              "  <tbody>\n",
              "    <tr>\n",
              "      <th>0</th>\n",
              "      <td>2019</td>\n",
              "      <td>1</td>\n",
              "      <td>1</td>\n",
              "      <td>1</td>\n",
              "      <td>1</td>\n",
              "      <td>5</td>\n",
              "      <td>1.0</td>\n",
              "      <td>2</td>\n",
              "      <td>67</td>\n",
              "      <td>3</td>\n",
              "      <td>0.0</td>\n",
              "      <td>0.0</td>\n",
              "      <td>0.0</td>\n",
              "      <td>1.0</td>\n",
              "      <td>0.0</td>\n",
              "      <td>1.0</td>\n",
              "      <td>0.0</td>\n",
              "      <td>1.0</td>\n",
              "      <td>1.0</td>\n",
              "      <td>0.0</td>\n",
              "      <td>0.0</td>\n",
              "      <td>NaN</td>\n",
              "    </tr>\n",
              "    <tr>\n",
              "      <th>1</th>\n",
              "      <td>2019</td>\n",
              "      <td>1</td>\n",
              "      <td>1</td>\n",
              "      <td>1</td>\n",
              "      <td>1</td>\n",
              "      <td>4</td>\n",
              "      <td>1.0</td>\n",
              "      <td>2</td>\n",
              "      <td>50</td>\n",
              "      <td>3</td>\n",
              "      <td>0.0</td>\n",
              "      <td>0.0</td>\n",
              "      <td>0.0</td>\n",
              "      <td>1.0</td>\n",
              "      <td>0.0</td>\n",
              "      <td>0.0</td>\n",
              "      <td>0.0</td>\n",
              "      <td>1.0</td>\n",
              "      <td>0.0</td>\n",
              "      <td>0.0</td>\n",
              "      <td>0.0</td>\n",
              "      <td>NaN</td>\n",
              "    </tr>\n",
              "    <tr>\n",
              "      <th>2</th>\n",
              "      <td>2019</td>\n",
              "      <td>1</td>\n",
              "      <td>1</td>\n",
              "      <td>1</td>\n",
              "      <td>1</td>\n",
              "      <td>3</td>\n",
              "      <td>1.0</td>\n",
              "      <td>2</td>\n",
              "      <td>64</td>\n",
              "      <td>4</td>\n",
              "      <td>0.0</td>\n",
              "      <td>1.0</td>\n",
              "      <td>1.0</td>\n",
              "      <td>1.0</td>\n",
              "      <td>0.0</td>\n",
              "      <td>0.0</td>\n",
              "      <td>0.0</td>\n",
              "      <td>1.0</td>\n",
              "      <td>0.0</td>\n",
              "      <td>0.0</td>\n",
              "      <td>0.0</td>\n",
              "      <td>NaN</td>\n",
              "    </tr>\n",
              "    <tr>\n",
              "      <th>3</th>\n",
              "      <td>2019</td>\n",
              "      <td>1</td>\n",
              "      <td>1</td>\n",
              "      <td>1</td>\n",
              "      <td>1</td>\n",
              "      <td>5</td>\n",
              "      <td>1.0</td>\n",
              "      <td>2</td>\n",
              "      <td>54</td>\n",
              "      <td>1</td>\n",
              "      <td>0.0</td>\n",
              "      <td>1.0</td>\n",
              "      <td>0.0</td>\n",
              "      <td>1.0</td>\n",
              "      <td>0.0</td>\n",
              "      <td>0.0</td>\n",
              "      <td>0.0</td>\n",
              "      <td>0.0</td>\n",
              "      <td>NaN</td>\n",
              "      <td>0.0</td>\n",
              "      <td>0.0</td>\n",
              "      <td>NaN</td>\n",
              "    </tr>\n",
              "    <tr>\n",
              "      <th>4</th>\n",
              "      <td>2019</td>\n",
              "      <td>1</td>\n",
              "      <td>1</td>\n",
              "      <td>1</td>\n",
              "      <td>1</td>\n",
              "      <td>5</td>\n",
              "      <td>1.0</td>\n",
              "      <td>2</td>\n",
              "      <td>62</td>\n",
              "      <td>1</td>\n",
              "      <td>0.0</td>\n",
              "      <td>0.0</td>\n",
              "      <td>0.0</td>\n",
              "      <td>0.0</td>\n",
              "      <td>0.0</td>\n",
              "      <td>0.0</td>\n",
              "      <td>0.0</td>\n",
              "      <td>1.0</td>\n",
              "      <td>0.0</td>\n",
              "      <td>0.0</td>\n",
              "      <td>0.0</td>\n",
              "      <td>NaN</td>\n",
              "    </tr>\n",
              "  </tbody>\n",
              "</table>\n",
              "</div>"
            ],
            "text/plain": [
              "   NU_ANO_CENSO  CO_IES  ...  IN_VISITANTE  TP_VISITANTE_IFES_VINCULO\n",
              "0          2019       1  ...           0.0                        NaN\n",
              "1          2019       1  ...           0.0                        NaN\n",
              "2          2019       1  ...           0.0                        NaN\n",
              "3          2019       1  ...           0.0                        NaN\n",
              "4          2019       1  ...           0.0                        NaN\n",
              "\n",
              "[5 rows x 22 columns]"
            ]
          },
          "metadata": {
            "tags": []
          },
          "execution_count": 8
        }
      ]
    },
    {
      "cell_type": "code",
      "metadata": {
        "id": "AA8tfFC_VnN4"
      },
      "source": [
        "colunaSituacao = professoresSelecionados['TP_SITUACAO']"
      ],
      "execution_count": null,
      "outputs": []
    },
    {
      "cell_type": "code",
      "metadata": {
        "colab": {
          "base_uri": "https://localhost:8080/"
        },
        "id": "AyM0SJBWV2q8",
        "outputId": "3b76bf2c-b0cb-4172-d928-8e33f6efd527"
      },
      "source": [
        "colunaSituacao"
      ],
      "execution_count": null,
      "outputs": [
        {
          "output_type": "execute_result",
          "data": {
            "text/plain": [
              "0         1\n",
              "1         1\n",
              "2         1\n",
              "3         1\n",
              "4         1\n",
              "         ..\n",
              "399423    1\n",
              "399424    1\n",
              "399425    1\n",
              "399426    1\n",
              "399427    1\n",
              "Name: TP_SITUACAO, Length: 399428, dtype: int64"
            ]
          },
          "metadata": {
            "tags": []
          },
          "execution_count": 10
        }
      ]
    },
    {
      "cell_type": "code",
      "metadata": {
        "id": "-aYeQAyZWayJ"
      },
      "source": [
        "colunaRegimeTrabalho = professoresSelecionados['TP_REGIME_TRABALHO']"
      ],
      "execution_count": null,
      "outputs": []
    },
    {
      "cell_type": "code",
      "metadata": {
        "colab": {
          "base_uri": "https://localhost:8080/"
        },
        "id": "quHIuwurWnUH",
        "outputId": "ac9e3f7d-a77f-44f0-ec26-d6f95354f41c"
      },
      "source": [
        "colunaRegimeTrabalho"
      ],
      "execution_count": null,
      "outputs": [
        {
          "output_type": "execute_result",
          "data": {
            "text/plain": [
              "0         1.0\n",
              "1         1.0\n",
              "2         1.0\n",
              "3         1.0\n",
              "4         1.0\n",
              "         ... \n",
              "399423    4.0\n",
              "399424    4.0\n",
              "399425    4.0\n",
              "399426    4.0\n",
              "399427    4.0\n",
              "Name: TP_REGIME_TRABALHO, Length: 399428, dtype: float64"
            ]
          },
          "metadata": {
            "tags": []
          },
          "execution_count": 12
        }
      ]
    },
    {
      "cell_type": "code",
      "metadata": {
        "colab": {
          "base_uri": "https://localhost:8080/"
        },
        "id": "gnMtAu2EWosp",
        "outputId": "5ea08320-b1c7-4ff0-dec0-d205e5294641"
      },
      "source": [
        "colunaRegimeTrabalho.value_counts"
      ],
      "execution_count": null,
      "outputs": [
        {
          "output_type": "execute_result",
          "data": {
            "text/plain": [
              "<bound method IndexOpsMixin.value_counts of 0         1.0\n",
              "1         1.0\n",
              "2         1.0\n",
              "3         1.0\n",
              "4         1.0\n",
              "         ... \n",
              "399423    4.0\n",
              "399424    4.0\n",
              "399425    4.0\n",
              "399426    4.0\n",
              "399427    4.0\n",
              "Name: TP_REGIME_TRABALHO, Length: 399428, dtype: float64>"
            ]
          },
          "metadata": {
            "tags": []
          },
          "execution_count": 13
        }
      ]
    },
    {
      "cell_type": "code",
      "metadata": {
        "id": "174Op3GFW2fV"
      },
      "source": [
        "colunaIdade = professoresSelecionados['NU_IDADE']"
      ],
      "execution_count": null,
      "outputs": []
    },
    {
      "cell_type": "code",
      "metadata": {
        "colab": {
          "base_uri": "https://localhost:8080/"
        },
        "id": "vBuWcTepXhLh",
        "outputId": "46231988-2a9c-4e85-f2bc-c17194ce2f5b"
      },
      "source": [
        "colunaIdade"
      ],
      "execution_count": null,
      "outputs": [
        {
          "output_type": "execute_result",
          "data": {
            "text/plain": [
              "0         67\n",
              "1         50\n",
              "2         64\n",
              "3         54\n",
              "4         62\n",
              "          ..\n",
              "399423    40\n",
              "399424    41\n",
              "399425    53\n",
              "399426    40\n",
              "399427    41\n",
              "Name: NU_IDADE, Length: 399428, dtype: int64"
            ]
          },
          "metadata": {
            "tags": []
          },
          "execution_count": 15
        }
      ]
    },
    {
      "cell_type": "code",
      "metadata": {
        "colab": {
          "base_uri": "https://localhost:8080/"
        },
        "id": "fUypQ54dXjUZ",
        "outputId": "e5e1b5f5-8680-44f7-8822-daccdefd9a1d"
      },
      "source": [
        "colunaIdade.value_counts().sort_index()"
      ],
      "execution_count": null,
      "outputs": [
        {
          "output_type": "execute_result",
          "data": {
            "text/plain": [
              "20       1\n",
              "21       9\n",
              "22      36\n",
              "23     191\n",
              "24     485\n",
              "      ... \n",
              "94       1\n",
              "95       1\n",
              "96       1\n",
              "98       1\n",
              "101      1\n",
              "Name: NU_IDADE, Length: 79, dtype: int64"
            ]
          },
          "metadata": {
            "tags": []
          },
          "execution_count": 19
        }
      ]
    },
    {
      "cell_type": "code",
      "metadata": {
        "id": "q95ON1aW0EnD"
      },
      "source": [
        "colunaIdade"
      ],
      "execution_count": null,
      "outputs": []
    },
    {
      "cell_type": "code",
      "metadata": {
        "colab": {
          "base_uri": "https://localhost:8080/",
          "height": 282
        },
        "id": "kAKX2hzNXpiw",
        "outputId": "b098f596-cebf-47d3-8a06-1672c2be7240"
      },
      "source": [
        "colunaRegimeTrabalho.hist()"
      ],
      "execution_count": null,
      "outputs": [
        {
          "output_type": "execute_result",
          "data": {
            "text/plain": [
              "<matplotlib.axes._subplots.AxesSubplot at 0x7f1971c86c10>"
            ]
          },
          "metadata": {
            "tags": []
          },
          "execution_count": 21
        },
        {
          "output_type": "display_data",
          "data": {
            "image/png": "[encoded data removed]",
            "text/plain": [
              "<Figure size 432x288 with 1 Axes>"
            ]
          },
          "metadata": {
            "tags": [],
            "needs_background": "light"
          }
        }
      ]
    },
    {
      "cell_type": "code",
      "metadata": {
        "colab": {
          "base_uri": "https://localhost:8080/",
          "height": 282
        },
        "id": "gqSVda7yYlTC",
        "outputId": "964b1adc-4653-42fc-d990-fd94d3c16c28"
      },
      "source": [
        "colunaIdade.hist(bins=30)"
      ],
      "execution_count": null,
      "outputs": [
        {
          "output_type": "execute_result",
          "data": {
            "text/plain": [
              "<matplotlib.axes._subplots.AxesSubplot at 0x7f19717368d0>"
            ]
          },
          "metadata": {
            "tags": []
          },
          "execution_count": 22
        },
        {
          "output_type": "display_data",
          "data": {
            "image/png": "[encoded data removed]",
            "text/plain": [
              "<Figure size 432x288 with 1 Axes>"
            ]
          },
          "metadata": {
            "tags": [],
            "needs_background": "light"
          }
        }
      ]
    },
    {
      "cell_type": "code",
      "metadata": {
        "colab": {
          "base_uri": "https://localhost:8080/"
        },
        "id": "mKLWqTOmYzyK",
        "outputId": "242cb6e6-8f94-49d8-84d9-1b431868503a"
      },
      "source": [
        "colunaSituacao.value_counts()"
      ],
      "execution_count": null,
      "outputs": [
        {
          "output_type": "execute_result",
          "data": {
            "text/plain": [
              "1    386073\n",
              "4      6521\n",
              "2      4395\n",
              "3      1594\n",
              "5       845\n",
              "Name: TP_SITUACAO, dtype: int64"
            ]
          },
          "metadata": {
            "tags": []
          },
          "execution_count": 23
        }
      ]
    },
    {
      "cell_type": "code",
      "metadata": {
        "colab": {
          "base_uri": "https://localhost:8080/",
          "height": 283
        },
        "id": "Y2BFjyTHZ5ye",
        "outputId": "7c6e7043-31bb-448a-e0c5-1e6b8d0697d3"
      },
      "source": [
        "colunaSituacao.hist()"
      ],
      "execution_count": null,
      "outputs": [
        {
          "output_type": "execute_result",
          "data": {
            "text/plain": [
              "<matplotlib.axes._subplots.AxesSubplot at 0x7f197160b490>"
            ]
          },
          "metadata": {
            "tags": []
          },
          "execution_count": 24
        },
        {
          "output_type": "display_data",
          "data": {
            "image/png": "[encoded data removed]",
            "text/plain": [
              "<Figure size 432x288 with 1 Axes>"
            ]
          },
          "metadata": {
            "tags": [],
            "needs_background": "light"
          }
        }
      ]
    },
    {
      "cell_type": "code",
      "metadata": {
        "id": "jaAI0jJxaM-n"
      },
      "source": [
        "colunaAtuacaoEAD = professoresSelecionados['IN_ATUACAO_EAD']"
      ],
      "execution_count": null,
      "outputs": []
    },
    {
      "cell_type": "code",
      "metadata": {
        "colab": {
          "base_uri": "https://localhost:8080/"
        },
        "id": "rMdbTZcNdkJz",
        "outputId": "0d7ceeb0-2bfc-466d-b09f-6cceb7e1065c"
      },
      "source": [
        "colunaAtuacaoEAD.value_counts()"
      ],
      "execution_count": null,
      "outputs": [
        {
          "output_type": "execute_result",
          "data": {
            "text/plain": [
              "0.0    364582\n",
              "1.0     21491\n",
              "Name: IN_ATUACAO_EAD, dtype: int64"
            ]
          },
          "metadata": {
            "tags": []
          },
          "execution_count": 26
        }
      ]
    },
    {
      "cell_type": "code",
      "metadata": {
        "id": "gS5KQPMedp3q"
      },
      "source": [
        "distAtuacaoEAD = colunaAtuacaoEAD.value_counts()"
      ],
      "execution_count": null,
      "outputs": []
    },
    {
      "cell_type": "code",
      "metadata": {
        "colab": {
          "base_uri": "https://localhost:8080/"
        },
        "id": "ZpfFX7GUeEpf",
        "outputId": "a27f7397-71cf-44bd-ca40-98accfc75800"
      },
      "source": [
        "distAtuacaoEAD"
      ],
      "execution_count": null,
      "outputs": [
        {
          "output_type": "execute_result",
          "data": {
            "text/plain": [
              "0.0    364582\n",
              "1.0     21491\n",
              "Name: IN_ATUACAO_EAD, dtype: int64"
            ]
          },
          "metadata": {
            "tags": []
          },
          "execution_count": 28
        }
      ]
    },
    {
      "cell_type": "code",
      "metadata": {
        "id": "hnLRa9r-eHIW"
      },
      "source": [
        "percentEAD = [100*x/distAtuacaoEAD.sum() for x in distAtuacaoEAD]"
      ],
      "execution_count": null,
      "outputs": []
    },
    {
      "cell_type": "code",
      "metadata": {
        "colab": {
          "base_uri": "https://localhost:8080/"
        },
        "id": "Iz7sGXRfegRB",
        "outputId": "498066df-04f2-416d-d7cb-d97a4f830ea2"
      },
      "source": [
        "percentEAD"
      ],
      "execution_count": null,
      "outputs": [
        {
          "output_type": "execute_result",
          "data": {
            "text/plain": [
              "[94.43343616362709, 5.5665638363729135]"
            ]
          },
          "metadata": {
            "tags": []
          },
          "execution_count": 30
        }
      ]
    },
    {
      "cell_type": "code",
      "metadata": {
        "id": "EjmJUW-seh6a"
      },
      "source": [
        "colunaSexo = professoresSelecionados['TP_SEXO']"
      ],
      "execution_count": null,
      "outputs": []
    },
    {
      "cell_type": "code",
      "metadata": {
        "id": "o-7KlNTxfD2K"
      },
      "source": [
        "distSexo = colunaSexo.value_counts()"
      ],
      "execution_count": null,
      "outputs": []
    },
    {
      "cell_type": "code",
      "metadata": {
        "colab": {
          "base_uri": "https://localhost:8080/"
        },
        "id": "r4q4IteifWVH",
        "outputId": "f2c0ebcd-9b67-4a1b-8415-c9c61ca27946"
      },
      "source": [
        "distSexo"
      ],
      "execution_count": null,
      "outputs": [
        {
          "output_type": "execute_result",
          "data": {
            "text/plain": [
              "2    212614\n",
              "1    186814\n",
              "Name: TP_SEXO, dtype: int64"
            ]
          },
          "metadata": {
            "tags": []
          },
          "execution_count": 33
        }
      ]
    },
    {
      "cell_type": "code",
      "metadata": {
        "id": "IhZTQy4efZCk"
      },
      "source": [
        "percentSexo = [100*x/distSexo.sum() for x in distSexo]"
      ],
      "execution_count": null,
      "outputs": []
    },
    {
      "cell_type": "code",
      "metadata": {
        "colab": {
          "base_uri": "https://localhost:8080/"
        },
        "id": "ZDUTjRUdfvvC",
        "outputId": "a6104a88-ecec-4968-eb58-eea57e5b3f52"
      },
      "source": [
        "percentSexo"
      ],
      "execution_count": null,
      "outputs": [
        {
          "output_type": "execute_result",
          "data": {
            "text/plain": [
              "[53.229618354246576, 46.770381645753424]"
            ]
          },
          "metadata": {
            "tags": []
          },
          "execution_count": 35
        }
      ]
    },
    {
      "cell_type": "code",
      "metadata": {
        "id": "Vcl_PSzdfxiO"
      },
      "source": [
        "sexoMasculino = distSexo[2]"
      ],
      "execution_count": null,
      "outputs": []
    },
    {
      "cell_type": "code",
      "metadata": {
        "id": "Z1qwo2jQgsoq"
      },
      "source": [
        "nm_EAD = distAtuacaoEAD [1]"
      ],
      "execution_count": null,
      "outputs": []
    },
    {
      "cell_type": "code",
      "metadata": {
        "colab": {
          "base_uri": "https://localhost:8080/"
        },
        "id": "M896ScqMhOcB",
        "outputId": "ffbeb8ba-54f2-4d1f-9769-fe49bc64217b"
      },
      "source": [
        "sexoMasculino"
      ],
      "execution_count": null,
      "outputs": [
        {
          "output_type": "execute_result",
          "data": {
            "text/plain": [
              "212614"
            ]
          },
          "metadata": {
            "tags": []
          },
          "execution_count": 39
        }
      ]
    },
    {
      "cell_type": "code",
      "metadata": {
        "colab": {
          "base_uri": "https://localhost:8080/"
        },
        "id": "IAPA7dTFhgeb",
        "outputId": "1587265c-accf-45c7-afc2-3576f7cf8d4f"
      },
      "source": [
        "nm_EAD"
      ],
      "execution_count": null,
      "outputs": [
        {
          "output_type": "execute_result",
          "data": {
            "text/plain": [
              "21491"
            ]
          },
          "metadata": {
            "tags": []
          },
          "execution_count": 42
        }
      ]
    },
    {
      "cell_type": "code",
      "metadata": {
        "id": "EJbSlAh2hhV4"
      },
      "source": [
        "percentM_EAD = 100 * nm_EAD / sexoMasculino"
      ],
      "execution_count": null,
      "outputs": []
    },
    {
      "cell_type": "code",
      "metadata": {
        "colab": {
          "base_uri": "https://localhost:8080/"
        },
        "id": "c3XhPeUViMUf",
        "outputId": "42344a59-3425-4534-f81f-9ed3e4f58ac7"
      },
      "source": [
        "percentM_EAD"
      ],
      "execution_count": null,
      "outputs": [
        {
          "output_type": "execute_result",
          "data": {
            "text/plain": [
              "10.10798912583367"
            ]
          },
          "metadata": {
            "tags": []
          },
          "execution_count": 44
        }
      ]
    },
    {
      "cell_type": "code",
      "metadata": {
        "id": "IC2LW-ZaiO87"
      },
      "source": [],
      "execution_count": null,
      "outputs": []
    }
  ]
}